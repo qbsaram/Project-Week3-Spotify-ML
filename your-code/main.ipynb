{
 "cells": [
  {
   "cell_type": "markdown",
   "metadata": {
    "heading_collapsed": true
   },
   "source": [
    "# Objective Day 1"
   ]
  },
  {
   "cell_type": "markdown",
   "metadata": {
    "heading_collapsed": true,
    "hidden": true
   },
   "source": [
    "## Objective"
   ]
  },
  {
   "cell_type": "markdown",
   "metadata": {
    "hidden": true
   },
   "source": [
    "Create a function to scrape the Billboards 100 HOT songs and create local dataframe of songs with them including:\n",
    "\n",
    "Song’s name\n",
    "\n",
    "Song’s artist"
   ]
  },
  {
   "cell_type": "markdown",
   "metadata": {
    "heading_collapsed": true,
    "hidden": true
   },
   "source": [
    "## Importing Libraries <a class=\"anchor\" id=\"day1libraries\"></a>"
   ]
  },
  {
   "cell_type": "code",
   "execution_count": 2,
   "metadata": {
    "hidden": true
   },
   "outputs": [],
   "source": [
    "from bs4 import BeautifulSoup\n",
    "import re\n",
    "import pandas as pd\n",
    "import numpy as np\n",
    "import requests"
   ]
  },
  {
   "cell_type": "markdown",
   "metadata": {
    "heading_collapsed": true,
    "hidden": true
   },
   "source": [
    "## Source <a class=\"anchor\" id=\"day1source\"></a>"
   ]
  },
  {
   "cell_type": "code",
   "execution_count": 3,
   "metadata": {
    "hidden": true
   },
   "outputs": [],
   "source": [
    "url = \"https://www.billboard.com/charts/hot-100\""
   ]
  },
  {
   "cell_type": "code",
   "execution_count": 4,
   "metadata": {
    "hidden": true
   },
   "outputs": [
    {
     "name": "stdout",
     "output_type": "stream",
     "text": [
      "200\n"
     ]
    }
   ],
   "source": [
    "response = requests.get(url)\n",
    "print(response.status_code) #200 is Succeess, 1xx Informational responses, 3xx is Redirection, 4xx is Client Errors, 5xx is Server errors"
   ]
  },
  {
   "cell_type": "code",
   "execution_count": 5,
   "metadata": {
    "hidden": true
   },
   "outputs": [],
   "source": [
    "soup = BeautifulSoup(response.text, \"html.parser\")"
   ]
  },
  {
   "cell_type": "code",
   "execution_count": 6,
   "metadata": {
    "hidden": true
   },
   "outputs": [],
   "source": [
    "#for tag in soup.select(\"span.chart-element__information\"): #Path to the container that contains the required information. If there is a unique class name it will be enough.\n",
    "#    print(tag.select(\"span.chart-element__information__song.text--truncate.color--primary\")[0].get_text())\n",
    "#    print(tag.select(\"span.chart-element__information__artist.text--truncate.color--secondary\")[0].get_text())"
   ]
  },
  {
   "cell_type": "markdown",
   "metadata": {
    "heading_collapsed": true,
    "hidden": true
   },
   "source": [
    "## Code <a class=\"anchor\" id=\"day1code\"></a>\n"
   ]
  },
  {
   "cell_type": "code",
   "execution_count": 7,
   "metadata": {
    "hidden": true
   },
   "outputs": [],
   "source": [
    "song_titles = [tag.select(\"span.chart-element__information__song.text--truncate.color--primary\")[0].get_text() for tag in soup.select(\"span.chart-element__information\")]\n",
    "#song_titles\n",
    "#List with song titles"
   ]
  },
  {
   "cell_type": "code",
   "execution_count": 8,
   "metadata": {
    "hidden": true
   },
   "outputs": [],
   "source": [
    "song_artists = [elem.select(\"span.chart-element__information__artist.text--truncate.color--secondary\")[0].get_text() for elem in soup.select(\"span.chart-element__information\")]\n",
    "#song_artists\n",
    "#List with song artists"
   ]
  },
  {
   "cell_type": "code",
   "execution_count": 9,
   "metadata": {
    "hidden": true
   },
   "outputs": [],
   "source": [
    "d = {\"song_artists\":song_artists, \"song_titles\":song_titles} #Creating a dictionary with all the information"
   ]
  },
  {
   "cell_type": "code",
   "execution_count": 10,
   "metadata": {
    "hidden": true
   },
   "outputs": [],
   "source": [
    "df_100_charts = pd.DataFrame(data=d) #Converting the dictionary to a dataframe"
   ]
  },
  {
   "cell_type": "code",
   "execution_count": 11,
   "metadata": {
    "hidden": true
   },
   "outputs": [
    {
     "data": {
      "text/html": [
       "<div>\n",
       "<style scoped>\n",
       "    .dataframe tbody tr th:only-of-type {\n",
       "        vertical-align: middle;\n",
       "    }\n",
       "\n",
       "    .dataframe tbody tr th {\n",
       "        vertical-align: top;\n",
       "    }\n",
       "\n",
       "    .dataframe thead th {\n",
       "        text-align: right;\n",
       "    }\n",
       "</style>\n",
       "<table border=\"1\" class=\"dataframe\">\n",
       "  <thead>\n",
       "    <tr style=\"text-align: right;\">\n",
       "      <th></th>\n",
       "      <th>song_artists</th>\n",
       "      <th>song_titles</th>\n",
       "    </tr>\n",
       "  </thead>\n",
       "  <tbody>\n",
       "    <tr>\n",
       "      <th>0</th>\n",
       "      <td>BTS</td>\n",
       "      <td>Butter</td>\n",
       "    </tr>\n",
       "    <tr>\n",
       "      <th>1</th>\n",
       "      <td>Olivia Rodrigo</td>\n",
       "      <td>Good 4 U</td>\n",
       "    </tr>\n",
       "    <tr>\n",
       "      <th>2</th>\n",
       "      <td>Dua Lipa Featuring DaBaby</td>\n",
       "      <td>Levitating</td>\n",
       "    </tr>\n",
       "    <tr>\n",
       "      <th>3</th>\n",
       "      <td>Justin Bieber Featuring Daniel Caesar &amp; Giveon</td>\n",
       "      <td>Peaches</td>\n",
       "    </tr>\n",
       "    <tr>\n",
       "      <th>4</th>\n",
       "      <td>Silk Sonic (Bruno Mars &amp; Anderson .Paak)</td>\n",
       "      <td>Leave The Door Open</td>\n",
       "    </tr>\n",
       "    <tr>\n",
       "      <th>...</th>\n",
       "      <td>...</td>\n",
       "      <td>...</td>\n",
       "    </tr>\n",
       "    <tr>\n",
       "      <th>95</th>\n",
       "      <td>Lainey Wilson</td>\n",
       "      <td>Things A Man Oughta Know</td>\n",
       "    </tr>\n",
       "    <tr>\n",
       "      <th>96</th>\n",
       "      <td>Thomas Rhett</td>\n",
       "      <td>Country Again</td>\n",
       "    </tr>\n",
       "    <tr>\n",
       "      <th>97</th>\n",
       "      <td>Elle King &amp; Miranda Lambert</td>\n",
       "      <td>Drunk (And I Don't Wanna Go Home)</td>\n",
       "    </tr>\n",
       "    <tr>\n",
       "      <th>98</th>\n",
       "      <td>Lil Baby &amp; Lil Durk</td>\n",
       "      <td>If You Want To</td>\n",
       "    </tr>\n",
       "    <tr>\n",
       "      <th>99</th>\n",
       "      <td>Nicki Minaj, Drake &amp; Lil Wayne</td>\n",
       "      <td>Seeing Green</td>\n",
       "    </tr>\n",
       "  </tbody>\n",
       "</table>\n",
       "<p>100 rows × 2 columns</p>\n",
       "</div>"
      ],
      "text/plain": [
       "                                      song_artists  \\\n",
       "0                                              BTS   \n",
       "1                                   Olivia Rodrigo   \n",
       "2                        Dua Lipa Featuring DaBaby   \n",
       "3   Justin Bieber Featuring Daniel Caesar & Giveon   \n",
       "4         Silk Sonic (Bruno Mars & Anderson .Paak)   \n",
       "..                                             ...   \n",
       "95                                   Lainey Wilson   \n",
       "96                                    Thomas Rhett   \n",
       "97                     Elle King & Miranda Lambert   \n",
       "98                             Lil Baby & Lil Durk   \n",
       "99                  Nicki Minaj, Drake & Lil Wayne   \n",
       "\n",
       "                          song_titles  \n",
       "0                              Butter  \n",
       "1                            Good 4 U  \n",
       "2                          Levitating  \n",
       "3                             Peaches  \n",
       "4                 Leave The Door Open  \n",
       "..                                ...  \n",
       "95           Things A Man Oughta Know  \n",
       "96                      Country Again  \n",
       "97  Drunk (And I Don't Wanna Go Home)  \n",
       "98                     If You Want To  \n",
       "99                       Seeing Green  \n",
       "\n",
       "[100 rows x 2 columns]"
      ]
     },
     "execution_count": 11,
     "metadata": {},
     "output_type": "execute_result"
    }
   ],
   "source": [
    "df_100_charts"
   ]
  },
  {
   "cell_type": "markdown",
   "metadata": {
    "hidden": true
   },
   "source": [
    "------------------"
   ]
  },
  {
   "cell_type": "markdown",
   "metadata": {
    "heading_collapsed": true
   },
   "source": [
    "# Objective Day 2\n",
    "\n"
   ]
  },
  {
   "cell_type": "markdown",
   "metadata": {
    "heading_collapsed": true,
    "hidden": true
   },
   "source": [
    "## Objective 1"
   ]
  },
  {
   "cell_type": "markdown",
   "metadata": {
    "hidden": true
   },
   "source": [
    "* Create a second function to retrieve the audio features of a given song.\n"
   ]
  },
  {
   "cell_type": "markdown",
   "metadata": {
    "heading_collapsed": true,
    "hidden": true
   },
   "source": [
    "## Importing Libraries"
   ]
  },
  {
   "cell_type": "code",
   "execution_count": 12,
   "metadata": {
    "hidden": true
   },
   "outputs": [],
   "source": [
    "import spotipy\n",
    "from spotipy.oauth2 import SpotifyClientCredentials\n",
    "from Credentials import Client_ID, Client_Secret\n",
    "import json\n",
    "import requests\n",
    "client_credentials_manager = SpotifyClientCredentials(client_id=Client_ID, client_secret=Client_Secret)\n",
    "sp = spotipy.Spotify(client_credentials_manager=client_credentials_manager)\n",
    "import pprint\n",
    "import pandas as pd"
   ]
  },
  {
   "cell_type": "markdown",
   "metadata": {
    "hidden": true
   },
   "source": [
    "## Audio features from one song"
   ]
  },
  {
   "cell_type": "markdown",
   "metadata": {
    "hidden": true
   },
   "source": [
    "Create a second function to retrieve the audio features of a given song."
   ]
  },
  {
   "cell_type": "code",
   "execution_count": 13,
   "metadata": {
    "hidden": true
   },
   "outputs": [],
   "source": [
    "song = sp.search(q='Butter', limit=1) #Getting information about one song."
   ]
  },
  {
   "cell_type": "code",
   "execution_count": 47,
   "metadata": {
    "hidden": true
   },
   "outputs": [],
   "source": [
    "#song #The json with the info about the song is a dictionary"
   ]
  },
  {
   "cell_type": "code",
   "execution_count": 42,
   "metadata": {
    "hidden": true
   },
   "outputs": [
    {
     "data": {
      "text/plain": [
       "dict_keys(['tracks'])"
      ]
     },
     "execution_count": 42,
     "metadata": {},
     "output_type": "execute_result"
    }
   ],
   "source": [
    "song.keys()"
   ]
  },
  {
   "cell_type": "code",
   "execution_count": 43,
   "metadata": {
    "hidden": true
   },
   "outputs": [
    {
     "data": {
      "text/plain": [
       "dict_keys(['href', 'items', 'limit', 'next', 'offset', 'previous', 'total'])"
      ]
     },
     "execution_count": 43,
     "metadata": {},
     "output_type": "execute_result"
    }
   ],
   "source": [
    "song.get(\"tracks\").keys()"
   ]
  },
  {
   "cell_type": "code",
   "execution_count": 44,
   "metadata": {
    "hidden": true
   },
   "outputs": [],
   "source": [
    "#song['tracks']['items'][0]"
   ]
  },
  {
   "cell_type": "code",
   "execution_count": 18,
   "metadata": {
    "hidden": true
   },
   "outputs": [
    {
     "data": {
      "text/plain": [
       "dict_keys(['album', 'artists', 'available_markets', 'disc_number', 'duration_ms', 'explicit', 'external_ids', 'external_urls', 'href', 'id', 'is_local', 'name', 'popularity', 'preview_url', 'track_number', 'type', 'uri'])"
      ]
     },
     "execution_count": 18,
     "metadata": {},
     "output_type": "execute_result"
    }
   ],
   "source": [
    "song['tracks']['items'][0].keys() #This dictionary contains our wanted id."
   ]
  },
  {
   "cell_type": "code",
   "execution_count": 19,
   "metadata": {
    "hidden": true
   },
   "outputs": [],
   "source": [
    "#pprint.pprint(song) #pprint is the pretty-printer library showing code in a prettier way."
   ]
  },
  {
   "cell_type": "code",
   "execution_count": null,
   "metadata": {
    "hidden": true
   },
   "outputs": [],
   "source": []
  },
  {
   "cell_type": "markdown",
   "metadata": {
    "hidden": true
   },
   "source": [
    "The following code takes the information from the dict within a dict etc. until it gets the id for the one song we chose above. The [0] shows that one part is a list and the first item on that list contains our information."
   ]
  },
  {
   "cell_type": "code",
   "execution_count": 20,
   "metadata": {
    "hidden": true
   },
   "outputs": [
    {
     "data": {
      "text/plain": [
       "'2bgTY4UwhfBYhGT4HUYStN'"
      ]
     },
     "execution_count": 20,
     "metadata": {},
     "output_type": "execute_result"
    }
   ],
   "source": [
    "song['tracks']['items'][0]['id']"
   ]
  },
  {
   "cell_type": "markdown",
   "metadata": {
    "hidden": true
   },
   "source": [
    "Now we get the audiofeatures of our chosen song."
   ]
  },
  {
   "cell_type": "code",
   "execution_count": 21,
   "metadata": {
    "hidden": true
   },
   "outputs": [
    {
     "data": {
      "text/plain": [
       "'spotify:track:2bgTY4UwhfBYhGT4HUYStN'"
      ]
     },
     "execution_count": 21,
     "metadata": {},
     "output_type": "execute_result"
    }
   ],
   "source": [
    "song[\"tracks\"][\"items\"][0][\"uri\"] #The uri for the song."
   ]
  },
  {
   "cell_type": "code",
   "execution_count": 46,
   "metadata": {
    "hidden": true
   },
   "outputs": [],
   "source": [
    "audio_features = sp.audio_features(song[\"tracks\"][\"items\"][0][\"uri\"])[0]\n",
    "#audio_features     #The audio-features of the song are shown as a dictionary."
   ]
  },
  {
   "cell_type": "code",
   "execution_count": 45,
   "metadata": {
    "hidden": true
   },
   "outputs": [],
   "source": [
    "#audio_features.keys()"
   ]
  },
  {
   "cell_type": "code",
   "execution_count": 24,
   "metadata": {
    "hidden": true
   },
   "outputs": [],
   "source": [
    "audio_features_new = { key: [audio_features[key]] for key in list(audio_features.keys()) }"
   ]
  },
  {
   "cell_type": "code",
   "execution_count": 25,
   "metadata": {
    "hidden": true
   },
   "outputs": [
    {
     "data": {
      "text/html": [
       "<div>\n",
       "<style scoped>\n",
       "    .dataframe tbody tr th:only-of-type {\n",
       "        vertical-align: middle;\n",
       "    }\n",
       "\n",
       "    .dataframe tbody tr th {\n",
       "        vertical-align: top;\n",
       "    }\n",
       "\n",
       "    .dataframe thead th {\n",
       "        text-align: right;\n",
       "    }\n",
       "</style>\n",
       "<table border=\"1\" class=\"dataframe\">\n",
       "  <thead>\n",
       "    <tr style=\"text-align: right;\">\n",
       "      <th></th>\n",
       "      <th>danceability</th>\n",
       "      <th>energy</th>\n",
       "      <th>key</th>\n",
       "      <th>loudness</th>\n",
       "      <th>mode</th>\n",
       "      <th>speechiness</th>\n",
       "      <th>acousticness</th>\n",
       "      <th>instrumentalness</th>\n",
       "      <th>liveness</th>\n",
       "      <th>valence</th>\n",
       "      <th>tempo</th>\n",
       "      <th>type</th>\n",
       "      <th>id</th>\n",
       "      <th>uri</th>\n",
       "      <th>track_href</th>\n",
       "      <th>analysis_url</th>\n",
       "      <th>duration_ms</th>\n",
       "      <th>time_signature</th>\n",
       "    </tr>\n",
       "  </thead>\n",
       "  <tbody>\n",
       "    <tr>\n",
       "      <th>0</th>\n",
       "      <td>0.759</td>\n",
       "      <td>0.459</td>\n",
       "      <td>8</td>\n",
       "      <td>-5.187</td>\n",
       "      <td>1</td>\n",
       "      <td>0.0948</td>\n",
       "      <td>0.00323</td>\n",
       "      <td>0</td>\n",
       "      <td>0.0906</td>\n",
       "      <td>0.695</td>\n",
       "      <td>109.997</td>\n",
       "      <td>audio_features</td>\n",
       "      <td>2bgTY4UwhfBYhGT4HUYStN</td>\n",
       "      <td>spotify:track:2bgTY4UwhfBYhGT4HUYStN</td>\n",
       "      <td>https://api.spotify.com/v1/tracks/2bgTY4UwhfBY...</td>\n",
       "      <td>https://api.spotify.com/v1/audio-analysis/2bgT...</td>\n",
       "      <td>164442</td>\n",
       "      <td>4</td>\n",
       "    </tr>\n",
       "  </tbody>\n",
       "</table>\n",
       "</div>"
      ],
      "text/plain": [
       "   danceability  energy  key  loudness  mode  speechiness  acousticness  \\\n",
       "0         0.759   0.459    8    -5.187     1       0.0948       0.00323   \n",
       "\n",
       "   instrumentalness  liveness  valence    tempo            type  \\\n",
       "0                 0    0.0906    0.695  109.997  audio_features   \n",
       "\n",
       "                       id                                   uri  \\\n",
       "0  2bgTY4UwhfBYhGT4HUYStN  spotify:track:2bgTY4UwhfBYhGT4HUYStN   \n",
       "\n",
       "                                          track_href  \\\n",
       "0  https://api.spotify.com/v1/tracks/2bgTY4UwhfBY...   \n",
       "\n",
       "                                        analysis_url  duration_ms  \\\n",
       "0  https://api.spotify.com/v1/audio-analysis/2bgT...       164442   \n",
       "\n",
       "   time_signature  \n",
       "0               4  "
      ]
     },
     "execution_count": 25,
     "metadata": {},
     "output_type": "execute_result"
    }
   ],
   "source": [
    "pd.DataFrame(audio_features_new) #Dataframe with the audio features for our chosen song."
   ]
  },
  {
   "cell_type": "markdown",
   "metadata": {
    "hidden": true
   },
   "source": [
    "--------------------------------"
   ]
  },
  {
   "cell_type": "markdown",
   "metadata": {
    "heading_collapsed": true,
    "hidden": true
   },
   "source": [
    "## Objective 2"
   ]
  },
  {
   "cell_type": "markdown",
   "metadata": {
    "hidden": true
   },
   "source": [
    "* Create a third function to update the internal database with the song features using the previous function and to add this information to the dataframe:\n",
    "\n",
    "    - Song’s url/ uri\n",
    "    - Song’s audio_features\n",
    "\n",
    "Recommendation: create a function to extend the internal database with songs of your choice/playlist,.... The more songs you have in the database, the better."
   ]
  },
  {
   "cell_type": "markdown",
   "metadata": {
    "cell_style": "center",
    "heading_collapsed": true,
    "hidden": true
   },
   "source": [
    "## Functions\n"
   ]
  },
  {
   "cell_type": "code",
   "execution_count": 26,
   "metadata": {
    "hidden": true
   },
   "outputs": [],
   "source": [
    "#################### Function to get the uri of a song name ######################\n",
    "\n",
    "def get_uri_of_song(song_name):\n",
    "    results = sp.search(q=song_name, limit=1)\n",
    "    uri = results[\"tracks\"][\"items\"][0][\"uri\"]\n",
    "    return uri\n",
    "\n",
    "########### Function to get the audio features of a song as a dictionary ###########\n",
    "\n",
    "def get_audio_features_of_song(song_name):\n",
    "    audio_features = sp.audio_features(song_name[\"tracks\"][\"items\"][0][\"uri\"])[0]\n",
    "    audio_features = { key: [audio_features[key]] for key in list(audio_features.keys()) }\n",
    "    return audio_features\n",
    "\n",
    "##################### Function to get id of a song ##############################\n",
    "\n",
    "def get_song_id(song_name):\n",
    "    results = sp.search(q=song_name, limit=1)\n",
    "    id = results['tracks']['items'][0]['id']\n",
    "    return id\n",
    "\n",
    "\n",
    "################## Function to get the songs from a playlist ####################\n",
    "def get_playlist_tracks(username, playlist_id): #username is always \"spotify\" and playlist_id is the id in the link.\n",
    "    results = sp.user_playlist_tracks(username, playlist_id)\n",
    "    tracks = results[\"items\"]\n",
    "    while results[\"next\"]:\n",
    "        results = sp.next(results)\n",
    "        tracks.extend(results[\"items\"])\n",
    "    return tracks\n",
    "\n",
    "\n",
    "############### Function to get the artist from a track#################\n",
    "def get_artists_from_track(track):\n",
    "    return [artist[\"name\"] for artist in track[\"artists\"]]\n",
    "\n",
    "\n",
    "############# Function to get the artist from playlist##############\n",
    "def get_artists_from_playlist(playlist_id):\n",
    "    tracks_from_playlist = get_playlist_tracks(\"spotify\", playlist_id)\n",
    "    return list(set(artist for subset in [get_artists_from_track(track[\"track\"]) for track in tracks_from_playlist] for artist in subset))"
   ]
  },
  {
   "cell_type": "markdown",
   "metadata": {
    "hidden": true
   },
   "source": [
    "----------------------------------"
   ]
  },
  {
   "cell_type": "code",
   "execution_count": null,
   "metadata": {
    "hidden": true
   },
   "outputs": [],
   "source": []
  },
  {
   "cell_type": "markdown",
   "metadata": {
    "cell_style": "center",
    "hidden": true
   },
   "source": [
    "## Code"
   ]
  },
  {
   "cell_type": "markdown",
   "metadata": {
    "heading_collapsed": true,
    "hidden": true
   },
   "source": [
    "### Top 100 Songs"
   ]
  },
  {
   "cell_type": "markdown",
   "metadata": {
    "hidden": true
   },
   "source": [
    "Getting all the song names from our Hot Songs 100 and making a dataframe with uri. "
   ]
  },
  {
   "cell_type": "code",
   "execution_count": 57,
   "metadata": {
    "hidden": true
   },
   "outputs": [],
   "source": [
    "#df_100_charts #The dataframe containing the 100 Songs from the webpage."
   ]
  },
  {
   "cell_type": "code",
   "execution_count": 59,
   "metadata": {
    "hidden": true
   },
   "outputs": [],
   "source": [
    "#song_artists"
   ]
  },
  {
   "cell_type": "code",
   "execution_count": null,
   "metadata": {
    "hidden": true
   },
   "outputs": [],
   "source": [
    "#song_titles"
   ]
  },
  {
   "cell_type": "code",
   "execution_count": 60,
   "metadata": {
    "hidden": true
   },
   "outputs": [],
   "source": [
    "top_100_uris = []\n",
    "for i in song_titles:\n",
    "    top_100_uris.append(get_uri_of_song(i))"
   ]
  },
  {
   "cell_type": "code",
   "execution_count": 62,
   "metadata": {
    "hidden": true
   },
   "outputs": [],
   "source": [
    "#top_100_uris"
   ]
  },
  {
   "cell_type": "code",
   "execution_count": 71,
   "metadata": {
    "hidden": true
   },
   "outputs": [],
   "source": [
    "top_100_uris_audio_features = []\n",
    "for i in range(len(top_100_uris)):\n",
    "    top_100_uris_audio_features.append(sp.audio_features(top_100_uris[i]))\n",
    "    #######IMPORTANT: Make function out of audiofeature getting."
   ]
  },
  {
   "cell_type": "code",
   "execution_count": 66,
   "metadata": {
    "hidden": true
   },
   "outputs": [],
   "source": [
    "#top_100_uris_audio_features"
   ]
  },
  {
   "cell_type": "code",
   "execution_count": 128,
   "metadata": {
    "cell_style": "split",
    "hidden": true
   },
   "outputs": [
    {
     "data": {
      "text/plain": [
       "[[{'danceability': 0.759,\n",
       "   'energy': 0.459,\n",
       "   'key': 8,\n",
       "   'loudness': -5.187,\n",
       "   'mode': 1,\n",
       "   'speechiness': 0.0948,\n",
       "   'acousticness': 0.00323,\n",
       "   'instrumentalness': 0,\n",
       "   'liveness': 0.0906,\n",
       "   'valence': 0.695,\n",
       "   'tempo': 109.997,\n",
       "   'type': 'audio_features',\n",
       "   'id': '2bgTY4UwhfBYhGT4HUYStN',\n",
       "   'uri': 'spotify:track:2bgTY4UwhfBYhGT4HUYStN',\n",
       "   'track_href': 'https://api.spotify.com/v1/tracks/2bgTY4UwhfBYhGT4HUYStN',\n",
       "   'analysis_url': 'https://api.spotify.com/v1/audio-analysis/2bgTY4UwhfBYhGT4HUYStN',\n",
       "   'duration_ms': 164442,\n",
       "   'time_signature': 4}],\n",
       " [{'danceability': 0.556,\n",
       "   'energy': 0.661,\n",
       "   'key': 6,\n",
       "   'loudness': -5.052,\n",
       "   'mode': 0,\n",
       "   'speechiness': 0.204,\n",
       "   'acousticness': 0.3,\n",
       "   'instrumentalness': 0,\n",
       "   'liveness': 0.101,\n",
       "   'valence': 0.668,\n",
       "   'tempo': 168.56,\n",
       "   'type': 'audio_features',\n",
       "   'id': '6PERP62TejQjgHu81OHxgM',\n",
       "   'uri': 'spotify:track:6PERP62TejQjgHu81OHxgM',\n",
       "   'track_href': 'https://api.spotify.com/v1/tracks/6PERP62TejQjgHu81OHxgM',\n",
       "   'analysis_url': 'https://api.spotify.com/v1/audio-analysis/6PERP62TejQjgHu81OHxgM',\n",
       "   'duration_ms': 178148,\n",
       "   'time_signature': 4}],\n",
       " [{'danceability': 0.702,\n",
       "   'energy': 0.825,\n",
       "   'key': 6,\n",
       "   'loudness': -3.787,\n",
       "   'mode': 0,\n",
       "   'speechiness': 0.0601,\n",
       "   'acousticness': 0.00883,\n",
       "   'instrumentalness': 0,\n",
       "   'liveness': 0.0674,\n",
       "   'valence': 0.915,\n",
       "   'tempo': 102.977,\n",
       "   'type': 'audio_features',\n",
       "   'id': '463CkQjx2Zk1yXoBuierM9',\n",
       "   'uri': 'spotify:track:463CkQjx2Zk1yXoBuierM9',\n",
       "   'track_href': 'https://api.spotify.com/v1/tracks/463CkQjx2Zk1yXoBuierM9',\n",
       "   'analysis_url': 'https://api.spotify.com/v1/audio-analysis/463CkQjx2Zk1yXoBuierM9',\n",
       "   'duration_ms': 203064,\n",
       "   'time_signature': 4}],\n",
       " [{'danceability': 0.677,\n",
       "   'energy': 0.696,\n",
       "   'key': 0,\n",
       "   'loudness': -6.181,\n",
       "   'mode': 1,\n",
       "   'speechiness': 0.119,\n",
       "   'acousticness': 0.321,\n",
       "   'instrumentalness': 0,\n",
       "   'liveness': 0.42,\n",
       "   'valence': 0.464,\n",
       "   'tempo': 90.03,\n",
       "   'type': 'audio_features',\n",
       "   'id': '4iJyoBOLtHqaGxP12qzhQI',\n",
       "   'uri': 'spotify:track:4iJyoBOLtHqaGxP12qzhQI',\n",
       "   'track_href': 'https://api.spotify.com/v1/tracks/4iJyoBOLtHqaGxP12qzhQI',\n",
       "   'analysis_url': 'https://api.spotify.com/v1/audio-analysis/4iJyoBOLtHqaGxP12qzhQI',\n",
       "   'duration_ms': 198082,\n",
       "   'time_signature': 4}],\n",
       " [{'danceability': 0.586,\n",
       "   'energy': 0.616,\n",
       "   'key': 5,\n",
       "   'loudness': -7.964,\n",
       "   'mode': 1,\n",
       "   'speechiness': 0.0324,\n",
       "   'acousticness': 0.182,\n",
       "   'instrumentalness': 0,\n",
       "   'liveness': 0.0927,\n",
       "   'valence': 0.719,\n",
       "   'tempo': 148.088,\n",
       "   'type': 'audio_features',\n",
       "   'id': '7MAibcTli4IisCtbHKrGMh',\n",
       "   'uri': 'spotify:track:7MAibcTli4IisCtbHKrGMh',\n",
       "   'track_href': 'https://api.spotify.com/v1/tracks/7MAibcTli4IisCtbHKrGMh',\n",
       "   'analysis_url': 'https://api.spotify.com/v1/audio-analysis/7MAibcTli4IisCtbHKrGMh',\n",
       "   'duration_ms': 242096,\n",
       "   'time_signature': 4}],\n",
       " [{'danceability': 0.65,\n",
       "   'energy': 0.825,\n",
       "   'key': 0,\n",
       "   'loudness': -4.645,\n",
       "   'mode': 1,\n",
       "   'speechiness': 0.0325,\n",
       "   'acousticness': 0.0215,\n",
       "   'instrumentalness': 2.44e-05,\n",
       "   'liveness': 0.0936,\n",
       "   'valence': 0.593,\n",
       "   'tempo': 118.091,\n",
       "   'type': 'audio_features',\n",
       "   'id': '37BZB0z9T8Xu7U3e65qxFy',\n",
       "   'uri': 'spotify:track:37BZB0z9T8Xu7U3e65qxFy',\n",
       "   'track_href': 'https://api.spotify.com/v1/tracks/37BZB0z9T8Xu7U3e65qxFy',\n",
       "   'analysis_url': 'https://api.spotify.com/v1/audio-analysis/37BZB0z9T8Xu7U3e65qxFy',\n",
       "   'duration_ms': 191014,\n",
       "   'time_signature': 4}],\n",
       " [{'danceability': 0.762,\n",
       "   'energy': 0.701,\n",
       "   'key': 8,\n",
       "   'loudness': -3.541,\n",
       "   'mode': 1,\n",
       "   'speechiness': 0.0286,\n",
       "   'acousticness': 0.235,\n",
       "   'instrumentalness': 0.000158,\n",
       "   'liveness': 0.123,\n",
       "   'valence': 0.742,\n",
       "   'tempo': 110.968,\n",
       "   'type': 'audio_features',\n",
       "   'id': '748mdHapucXQri7IAO8yFK',\n",
       "   'uri': 'spotify:track:748mdHapucXQri7IAO8yFK',\n",
       "   'track_href': 'https://api.spotify.com/v1/tracks/748mdHapucXQri7IAO8yFK',\n",
       "   'analysis_url': 'https://api.spotify.com/v1/audio-analysis/748mdHapucXQri7IAO8yFK',\n",
       "   'duration_ms': 208867,\n",
       "   'time_signature': 4}],\n",
       " [{'danceability': 0.778,\n",
       "   'energy': 0.695,\n",
       "   'key': 4,\n",
       "   'loudness': -6.865,\n",
       "   'mode': 0,\n",
       "   'speechiness': 0.0913,\n",
       "   'acousticness': 0.175,\n",
       "   'instrumentalness': 0,\n",
       "   'liveness': 0.15,\n",
       "   'valence': 0.472,\n",
       "   'tempo': 149.996,\n",
       "   'type': 'audio_features',\n",
       "   'id': '3Ofmpyhv5UAQ70mENzB277',\n",
       "   'uri': 'spotify:track:3Ofmpyhv5UAQ70mENzB277',\n",
       "   'track_href': 'https://api.spotify.com/v1/tracks/3Ofmpyhv5UAQ70mENzB277',\n",
       "   'analysis_url': 'https://api.spotify.com/v1/audio-analysis/3Ofmpyhv5UAQ70mENzB277',\n",
       "   'duration_ms': 132780,\n",
       "   'time_signature': 4}],\n",
       " [{'danceability': 0.442,\n",
       "   'energy': 0.612,\n",
       "   'key': 2,\n",
       "   'loudness': -7.222,\n",
       "   'mode': 1,\n",
       "   'speechiness': 0.112,\n",
       "   'acousticness': 0.584,\n",
       "   'instrumentalness': 5.7e-06,\n",
       "   'liveness': 0.37,\n",
       "   'valence': 0.178,\n",
       "   'tempo': 180.917,\n",
       "   'type': 'audio_features',\n",
       "   'id': '6HU7h9RYOaPRFeh0R3UeAr',\n",
       "   'uri': 'spotify:track:6HU7h9RYOaPRFeh0R3UeAr',\n",
       "   'track_href': 'https://api.spotify.com/v1/tracks/6HU7h9RYOaPRFeh0R3UeAr',\n",
       "   'analysis_url': 'https://api.spotify.com/v1/audio-analysis/6HU7h9RYOaPRFeh0R3UeAr',\n",
       "   'duration_ms': 215507,\n",
       "   'time_signature': 4}],\n",
       " [{'danceability': 0.644,\n",
       "   'energy': 0.648,\n",
       "   'key': 1,\n",
       "   'loudness': -4.601,\n",
       "   'mode': 1,\n",
       "   'speechiness': 0.118,\n",
       "   'acousticness': 0.276,\n",
       "   'instrumentalness': 0,\n",
       "   'liveness': 0.135,\n",
       "   'valence': 0.44,\n",
       "   'tempo': 179.951,\n",
       "   'type': 'audio_features',\n",
       "   'id': '2JPLbjOn0wPCngEot2STUS',\n",
       "   'uri': 'spotify:track:2JPLbjOn0wPCngEot2STUS',\n",
       "   'track_href': 'https://api.spotify.com/v1/tracks/2JPLbjOn0wPCngEot2STUS',\n",
       "   'analysis_url': 'https://api.spotify.com/v1/audio-analysis/2JPLbjOn0wPCngEot2STUS',\n",
       "   'duration_ms': 206710,\n",
       "   'time_signature': 4}],\n",
       " [{'danceability': 0.61,\n",
       "   'energy': 0.508,\n",
       "   'key': 8,\n",
       "   'loudness': -6.682,\n",
       "   'mode': 0,\n",
       "   'speechiness': 0.152,\n",
       "   'acousticness': 0.297,\n",
       "   'instrumentalness': 0,\n",
       "   'liveness': 0.384,\n",
       "   'valence': 0.758,\n",
       "   'tempo': 178.818,\n",
       "   'type': 'audio_features',\n",
       "   'id': '67BtfxlNbhBmCDR2L2l8qd',\n",
       "   'uri': 'spotify:track:67BtfxlNbhBmCDR2L2l8qd',\n",
       "   'track_href': 'https://api.spotify.com/v1/tracks/67BtfxlNbhBmCDR2L2l8qd',\n",
       "   'analysis_url': 'https://api.spotify.com/v1/audio-analysis/67BtfxlNbhBmCDR2L2l8qd',\n",
       "   'duration_ms': 137876,\n",
       "   'time_signature': 4}],\n",
       " [{'danceability': 0.662,\n",
       "   'energy': 0.413,\n",
       "   'key': 0,\n",
       "   'loudness': -7.357,\n",
       "   'mode': 1,\n",
       "   'speechiness': 0.0299,\n",
       "   'acousticness': 0.213,\n",
       "   'instrumentalness': 0,\n",
       "   'liveness': 0.134,\n",
       "   'valence': 0.467,\n",
       "   'tempo': 93.005,\n",
       "   'type': 'audio_features',\n",
       "   'id': '27OeeYzk6klgBh83TSvGMA',\n",
       "   'uri': 'spotify:track:27OeeYzk6klgBh83TSvGMA',\n",
       "   'track_href': 'https://api.spotify.com/v1/tracks/27OeeYzk6klgBh83TSvGMA',\n",
       "   'analysis_url': 'https://api.spotify.com/v1/audio-analysis/27OeeYzk6klgBh83TSvGMA',\n",
       "   'duration_ms': 161385,\n",
       "   'time_signature': 4}],\n",
       " [{'danceability': 0.487,\n",
       "   'energy': 0.65,\n",
       "   'key': 0,\n",
       "   'loudness': -5.195,\n",
       "   'mode': 1,\n",
       "   'speechiness': 0.0253,\n",
       "   'acousticness': 0.191,\n",
       "   'instrumentalness': 0,\n",
       "   'liveness': 0.0933,\n",
       "   'valence': 0.456,\n",
       "   'tempo': 151.964,\n",
       "   'type': 'audio_features',\n",
       "   'id': '6IBcOGPsniK3Pso1wHIhew',\n",
       "   'uri': 'spotify:track:6IBcOGPsniK3Pso1wHIhew',\n",
       "   'track_href': 'https://api.spotify.com/v1/tracks/6IBcOGPsniK3Pso1wHIhew',\n",
       "   'analysis_url': 'https://api.spotify.com/v1/audio-analysis/6IBcOGPsniK3Pso1wHIhew',\n",
       "   'duration_ms': 232533,\n",
       "   'time_signature': 4}],\n",
       " [{'danceability': 0.789,\n",
       "   'energy': 0.536,\n",
       "   'key': 6,\n",
       "   'loudness': -6.862,\n",
       "   'mode': 1,\n",
       "   'speechiness': 0.242,\n",
       "   'acousticness': 0.41,\n",
       "   'instrumentalness': 0,\n",
       "   'liveness': 0.129,\n",
       "   'valence': 0.437,\n",
       "   'tempo': 81.039,\n",
       "   'type': 'audio_features',\n",
       "   'id': '43PGPuHIlVOc04jrZVh9L6',\n",
       "   'uri': 'spotify:track:43PGPuHIlVOc04jrZVh9L6',\n",
       "   'track_href': 'https://api.spotify.com/v1/tracks/43PGPuHIlVOc04jrZVh9L6',\n",
       "   'analysis_url': 'https://api.spotify.com/v1/audio-analysis/43PGPuHIlVOc04jrZVh9L6',\n",
       "   'duration_ms': 165926,\n",
       "   'time_signature': 4}],\n",
       " [{'danceability': 0.514,\n",
       "   'energy': 0.73,\n",
       "   'key': 1,\n",
       "   'loudness': -5.934,\n",
       "   'mode': 1,\n",
       "   'speechiness': 0.0598,\n",
       "   'acousticness': 0.00146,\n",
       "   'instrumentalness': 9.54e-05,\n",
       "   'liveness': 0.0897,\n",
       "   'valence': 0.334,\n",
       "   'tempo': 171.005,\n",
       "   'type': 'audio_features',\n",
       "   'id': '0VjIjW4GlUZAMYd2vXMi3b',\n",
       "   'uri': 'spotify:track:0VjIjW4GlUZAMYd2vXMi3b',\n",
       "   'track_href': 'https://api.spotify.com/v1/tracks/0VjIjW4GlUZAMYd2vXMi3b',\n",
       "   'analysis_url': 'https://api.spotify.com/v1/audio-analysis/0VjIjW4GlUZAMYd2vXMi3b',\n",
       "   'duration_ms': 200040,\n",
       "   'time_signature': 4}],\n",
       " [{'danceability': 0.596,\n",
       "   'energy': 0.65,\n",
       "   'key': 9,\n",
       "   'loudness': -5.167,\n",
       "   'mode': 1,\n",
       "   'speechiness': 0.337,\n",
       "   'acousticness': 0.138,\n",
       "   'instrumentalness': 0,\n",
       "   'liveness': 0.14,\n",
       "   'valence': 0.188,\n",
       "   'tempo': 133.997,\n",
       "   'type': 'audio_features',\n",
       "   'id': '4lUmnwRybYH7mMzf16xB0y',\n",
       "   'uri': 'spotify:track:4lUmnwRybYH7mMzf16xB0y',\n",
       "   'track_href': 'https://api.spotify.com/v1/tracks/4lUmnwRybYH7mMzf16xB0y',\n",
       "   'analysis_url': 'https://api.spotify.com/v1/audio-analysis/4lUmnwRybYH7mMzf16xB0y',\n",
       "   'duration_ms': 257428,\n",
       "   'time_signature': 4}],\n",
       " [{'danceability': 0.561,\n",
       "   'energy': 0.431,\n",
       "   'key': 10,\n",
       "   'loudness': -8.81,\n",
       "   'mode': 1,\n",
       "   'speechiness': 0.0578,\n",
       "   'acousticness': 0.768,\n",
       "   'instrumentalness': 1.42e-05,\n",
       "   'liveness': 0.106,\n",
       "   'valence': 0.137,\n",
       "   'tempo': 143.875,\n",
       "   'type': 'audio_features',\n",
       "   'id': '5wANPM4fQCJwkGd4rN57mH',\n",
       "   'uri': 'spotify:track:5wANPM4fQCJwkGd4rN57mH',\n",
       "   'track_href': 'https://api.spotify.com/v1/tracks/5wANPM4fQCJwkGd4rN57mH',\n",
       "   'analysis_url': 'https://api.spotify.com/v1/audio-analysis/5wANPM4fQCJwkGd4rN57mH',\n",
       "   'duration_ms': 242013,\n",
       "   'time_signature': 4}],\n",
       " [{'danceability': 0.713,\n",
       "   'energy': 0.676,\n",
       "   'key': 10,\n",
       "   'loudness': -5.483,\n",
       "   'mode': 1,\n",
       "   'speechiness': 0.027,\n",
       "   'acousticness': 0.0377,\n",
       "   'instrumentalness': 0,\n",
       "   'liveness': 0.154,\n",
       "   'valence': 0.721,\n",
       "   'tempo': 99.048,\n",
       "   'type': 'audio_features',\n",
       "   'id': '6fRxMU4LWwyaSSowV441IU',\n",
       "   'uri': 'spotify:track:6fRxMU4LWwyaSSowV441IU',\n",
       "   'track_href': 'https://api.spotify.com/v1/tracks/6fRxMU4LWwyaSSowV441IU',\n",
       "   'analysis_url': 'https://api.spotify.com/v1/audio-analysis/6fRxMU4LWwyaSSowV441IU',\n",
       "   'duration_ms': 227395,\n",
       "   'time_signature': 4}],\n",
       " [{'danceability': 0.38,\n",
       "   'energy': 0.339,\n",
       "   'key': 3,\n",
       "   'loudness': -7.885,\n",
       "   'mode': 1,\n",
       "   'speechiness': 0.0338,\n",
       "   'acousticness': 0.691,\n",
       "   'instrumentalness': 0,\n",
       "   'liveness': 0.12,\n",
       "   'valence': 0.0849,\n",
       "   'tempo': 100.607,\n",
       "   'type': 'audio_features',\n",
       "   'id': '5CZ40GBx1sQ9agT82CLQCT',\n",
       "   'uri': 'spotify:track:5CZ40GBx1sQ9agT82CLQCT',\n",
       "   'track_href': 'https://api.spotify.com/v1/tracks/5CZ40GBx1sQ9agT82CLQCT',\n",
       "   'analysis_url': 'https://api.spotify.com/v1/audio-analysis/5CZ40GBx1sQ9agT82CLQCT',\n",
       "   'duration_ms': 229227,\n",
       "   'time_signature': 4}],\n",
       " [{'danceability': 0.643,\n",
       "   'energy': 0.403,\n",
       "   'key': 1,\n",
       "   'loudness': -11.254,\n",
       "   'mode': 0,\n",
       "   'speechiness': 0.41,\n",
       "   'acousticness': 0.343,\n",
       "   'instrumentalness': 0,\n",
       "   'liveness': 0.138,\n",
       "   'valence': 0.111,\n",
       "   'tempo': 98.54,\n",
       "   'type': 'audio_features',\n",
       "   'id': '1fxYz1s15pyZLsJT0Hdh1m',\n",
       "   'uri': 'spotify:track:1fxYz1s15pyZLsJT0Hdh1m',\n",
       "   'track_href': 'https://api.spotify.com/v1/tracks/1fxYz1s15pyZLsJT0Hdh1m',\n",
       "   'analysis_url': 'https://api.spotify.com/v1/audio-analysis/1fxYz1s15pyZLsJT0Hdh1m',\n",
       "   'duration_ms': 174682,\n",
       "   'time_signature': 4}],\n",
       " [{'danceability': 0.754,\n",
       "   'energy': 0.66,\n",
       "   'key': 0,\n",
       "   'loudness': -6.811,\n",
       "   'mode': 1,\n",
       "   'speechiness': 0.267,\n",
       "   'acousticness': 0.179,\n",
       "   'instrumentalness': 0,\n",
       "   'liveness': 0.194,\n",
       "   'valence': 0.316,\n",
       "   'tempo': 83.0,\n",
       "   'type': 'audio_features',\n",
       "   'id': '3E3pb3qH11iny6TFDJvsg5',\n",
       "   'uri': 'spotify:track:3E3pb3qH11iny6TFDJvsg5',\n",
       "   'track_href': 'https://api.spotify.com/v1/tracks/3E3pb3qH11iny6TFDJvsg5',\n",
       "   'analysis_url': 'https://api.spotify.com/v1/audio-analysis/3E3pb3qH11iny6TFDJvsg5',\n",
       "   'duration_ms': 209299,\n",
       "   'time_signature': 4}],\n",
       " [{'danceability': 0.84,\n",
       "   'energy': 0.766,\n",
       "   'key': 4,\n",
       "   'loudness': -4.12,\n",
       "   'mode': 1,\n",
       "   'speechiness': 0.136,\n",
       "   'acousticness': 0.00302,\n",
       "   'instrumentalness': 3.61e-06,\n",
       "   'liveness': 0.0684,\n",
       "   'valence': 0.402,\n",
       "   'tempo': 94.018,\n",
       "   'type': 'audio_features',\n",
       "   'id': '2etHQJxIbV0soyPhelVs9Y',\n",
       "   'uri': 'spotify:track:2etHQJxIbV0soyPhelVs9Y',\n",
       "   'track_href': 'https://api.spotify.com/v1/tracks/2etHQJxIbV0soyPhelVs9Y',\n",
       "   'analysis_url': 'https://api.spotify.com/v1/audio-analysis/2etHQJxIbV0soyPhelVs9Y',\n",
       "   'duration_ms': 155884,\n",
       "   'time_signature': 4}],\n",
       " [{'danceability': 0.449,\n",
       "   'energy': 0.465,\n",
       "   'key': 0,\n",
       "   'loudness': -8.964,\n",
       "   'mode': 1,\n",
       "   'speechiness': 0.0791,\n",
       "   'acousticness': 0.524,\n",
       "   'instrumentalness': 1.02e-06,\n",
       "   'liveness': 0.303,\n",
       "   'valence': 0.543,\n",
       "   'tempo': 89.087,\n",
       "   'type': 'audio_features',\n",
       "   'id': '3FAJ6O0NOHQV8Mc5Ri6ENp',\n",
       "   'uri': 'spotify:track:3FAJ6O0NOHQV8Mc5Ri6ENp',\n",
       "   'track_href': 'https://api.spotify.com/v1/tracks/3FAJ6O0NOHQV8Mc5Ri6ENp',\n",
       "   'analysis_url': 'https://api.spotify.com/v1/audio-analysis/3FAJ6O0NOHQV8Mc5Ri6ENp',\n",
       "   'duration_ms': 198371,\n",
       "   'time_signature': 3}],\n",
       " [{'danceability': 0.761,\n",
       "   'energy': 0.525,\n",
       "   'key': 11,\n",
       "   'loudness': -6.9,\n",
       "   'mode': 1,\n",
       "   'speechiness': 0.0944,\n",
       "   'acousticness': 0.44,\n",
       "   'instrumentalness': 6.7e-06,\n",
       "   'liveness': 0.0921,\n",
       "   'valence': 0.531,\n",
       "   'tempo': 80.87,\n",
       "   'type': 'audio_features',\n",
       "   'id': '3USxtqRwSYz57Ewm6wWRMp',\n",
       "   'uri': 'spotify:track:3USxtqRwSYz57Ewm6wWRMp',\n",
       "   'track_href': 'https://api.spotify.com/v1/tracks/3USxtqRwSYz57Ewm6wWRMp',\n",
       "   'analysis_url': 'https://api.spotify.com/v1/audio-analysis/3USxtqRwSYz57Ewm6wWRMp',\n",
       "   'duration_ms': 238805,\n",
       "   'time_signature': 4}],\n",
       " [{'danceability': 0.907,\n",
       "   'energy': 0.393,\n",
       "   'key': 4,\n",
       "   'loudness': -7.636,\n",
       "   'mode': 0,\n",
       "   'speechiness': 0.0539,\n",
       "   'acousticness': 0.451,\n",
       "   'instrumentalness': 1.35e-06,\n",
       "   'liveness': 0.135,\n",
       "   'valence': 0.202,\n",
       "   'tempo': 104.949,\n",
       "   'type': 'audio_features',\n",
       "   'id': '3J8EOeKLTLXORtWPpOU5bE',\n",
       "   'uri': 'spotify:track:3J8EOeKLTLXORtWPpOU5bE',\n",
       "   'track_href': 'https://api.spotify.com/v1/tracks/3J8EOeKLTLXORtWPpOU5bE',\n",
       "   'analysis_url': 'https://api.spotify.com/v1/audio-analysis/3J8EOeKLTLXORtWPpOU5bE',\n",
       "   'duration_ms': 205458,\n",
       "   'time_signature': 4}],\n",
       " [{'danceability': 0.369,\n",
       "   'energy': 0.272,\n",
       "   'key': 9,\n",
       "   'loudness': -10.497,\n",
       "   'mode': 1,\n",
       "   'speechiness': 0.0364,\n",
       "   'acousticness': 0.866,\n",
       "   'instrumentalness': 0,\n",
       "   'liveness': 0.147,\n",
       "   'valence': 0.218,\n",
       "   'tempo': 172.929,\n",
       "   'type': 'audio_features',\n",
       "   'id': '5JCoSi02qi3jJeHdZXMmR8',\n",
       "   'uri': 'spotify:track:5JCoSi02qi3jJeHdZXMmR8',\n",
       "   'track_href': 'https://api.spotify.com/v1/tracks/5JCoSi02qi3jJeHdZXMmR8',\n",
       "   'analysis_url': 'https://api.spotify.com/v1/audio-analysis/5JCoSi02qi3jJeHdZXMmR8',\n",
       "   'duration_ms': 152667,\n",
       "   'time_signature': 4}],\n",
       " [{'danceability': 0.671,\n",
       "   'energy': 0.336,\n",
       "   'key': 10,\n",
       "   'loudness': -8.494,\n",
       "   'mode': 0,\n",
       "   'speechiness': 0.241,\n",
       "   'acousticness': 0.705,\n",
       "   'instrumentalness': 0.00751,\n",
       "   'liveness': 0.0577,\n",
       "   'valence': 0.518,\n",
       "   'tempo': 75.051,\n",
       "   'type': 'audio_features',\n",
       "   'id': '2xdwCJLfKCkat14mlgR26M',\n",
       "   'uri': 'spotify:track:2xdwCJLfKCkat14mlgR26M',\n",
       "   'track_href': 'https://api.spotify.com/v1/tracks/2xdwCJLfKCkat14mlgR26M',\n",
       "   'analysis_url': 'https://api.spotify.com/v1/audio-analysis/2xdwCJLfKCkat14mlgR26M',\n",
       "   'duration_ms': 212496,\n",
       "   'time_signature': 4}],\n",
       " [{'danceability': 0.395,\n",
       "   'energy': 0.443,\n",
       "   'key': 6,\n",
       "   'loudness': -9.72,\n",
       "   'mode': 1,\n",
       "   'speechiness': 0.133,\n",
       "   'acousticness': 0.765,\n",
       "   'instrumentalness': 9.67e-06,\n",
       "   'liveness': 0.0839,\n",
       "   'valence': 0.338,\n",
       "   'tempo': 168.924,\n",
       "   'type': 'audio_features',\n",
       "   'id': '2tGvwE8GcFKwNdAXMnlbfl',\n",
       "   'uri': 'spotify:track:2tGvwE8GcFKwNdAXMnlbfl',\n",
       "   'track_href': 'https://api.spotify.com/v1/tracks/2tGvwE8GcFKwNdAXMnlbfl',\n",
       "   'analysis_url': 'https://api.spotify.com/v1/audio-analysis/2tGvwE8GcFKwNdAXMnlbfl',\n",
       "   'duration_ms': 175933,\n",
       "   'time_signature': 3}],\n",
       " [{'danceability': 0.868,\n",
       "   'energy': 0.795,\n",
       "   'key': 11,\n",
       "   'loudness': -6.044,\n",
       "   'mode': 1,\n",
       "   'speechiness': 0.269,\n",
       "   'acousticness': 0.0012,\n",
       "   'instrumentalness': 0.0193,\n",
       "   'liveness': 0.0461,\n",
       "   'valence': 0.819,\n",
       "   'tempo': 166.0,\n",
       "   'type': 'audio_features',\n",
       "   'id': '1XXimziG1uhM0eDNCZCrUl',\n",
       "   'uri': 'spotify:track:1XXimziG1uhM0eDNCZCrUl',\n",
       "   'track_href': 'https://api.spotify.com/v1/tracks/1XXimziG1uhM0eDNCZCrUl',\n",
       "   'analysis_url': 'https://api.spotify.com/v1/audio-analysis/1XXimziG1uhM0eDNCZCrUl',\n",
       "   'duration_ms': 156945,\n",
       "   'time_signature': 4}],\n",
       " [{'danceability': 0.701,\n",
       "   'energy': 0.716,\n",
       "   'key': 7,\n",
       "   'loudness': -3.671,\n",
       "   'mode': 0,\n",
       "   'speechiness': 0.0361,\n",
       "   'acousticness': 0.174,\n",
       "   'instrumentalness': 0,\n",
       "   'liveness': 0.324,\n",
       "   'valence': 0.732,\n",
       "   'tempo': 91.007,\n",
       "   'type': 'audio_features',\n",
       "   'id': '4jPy3l0RUwlUI9T5XHBW2m',\n",
       "   'uri': 'spotify:track:4jPy3l0RUwlUI9T5XHBW2m',\n",
       "   'track_href': 'https://api.spotify.com/v1/tracks/4jPy3l0RUwlUI9T5XHBW2m',\n",
       "   'analysis_url': 'https://api.spotify.com/v1/audio-analysis/4jPy3l0RUwlUI9T5XHBW2m',\n",
       "   'duration_ms': 140533,\n",
       "   'time_signature': 4}],\n",
       " [{'danceability': 0.744,\n",
       "   'energy': 0.697,\n",
       "   'key': 11,\n",
       "   'loudness': -4.067,\n",
       "   'mode': 1,\n",
       "   'speechiness': 0.136,\n",
       "   'acousticness': 0.0415,\n",
       "   'instrumentalness': 0,\n",
       "   'liveness': 0.112,\n",
       "   'valence': 0.238,\n",
       "   'tempo': 150.046,\n",
       "   'type': 'audio_features',\n",
       "   'id': '2ELp0EL65yitpfJYwc5983',\n",
       "   'uri': 'spotify:track:2ELp0EL65yitpfJYwc5983',\n",
       "   'track_href': 'https://api.spotify.com/v1/tracks/2ELp0EL65yitpfJYwc5983',\n",
       "   'analysis_url': 'https://api.spotify.com/v1/audio-analysis/2ELp0EL65yitpfJYwc5983',\n",
       "   'duration_ms': 192921,\n",
       "   'time_signature': 4}],\n",
       " [{'danceability': 0.477,\n",
       "   'energy': 0.727,\n",
       "   'key': 2,\n",
       "   'loudness': -4.053,\n",
       "   'mode': 1,\n",
       "   'speechiness': 0.286,\n",
       "   'acousticness': 0.000866,\n",
       "   'instrumentalness': 0,\n",
       "   'liveness': 0.108,\n",
       "   'valence': 0.227,\n",
       "   'tempo': 150.062,\n",
       "   'type': 'audio_features',\n",
       "   'id': '1EJIcDYXwSqipW5dFe4uJz',\n",
       "   'uri': 'spotify:track:1EJIcDYXwSqipW5dFe4uJz',\n",
       "   'track_href': 'https://api.spotify.com/v1/tracks/1EJIcDYXwSqipW5dFe4uJz',\n",
       "   'analysis_url': 'https://api.spotify.com/v1/audio-analysis/1EJIcDYXwSqipW5dFe4uJz',\n",
       "   'duration_ms': 236524,\n",
       "   'time_signature': 4}],\n",
       " [{'danceability': 0.653,\n",
       "   'energy': 0.524,\n",
       "   'key': 11,\n",
       "   'loudness': -9.016,\n",
       "   'mode': 0,\n",
       "   'speechiness': 0.0502,\n",
       "   'acousticness': 0.112,\n",
       "   'instrumentalness': 0,\n",
       "   'liveness': 0.203,\n",
       "   'valence': 0.553,\n",
       "   'tempo': 83.97,\n",
       "   'type': 'audio_features',\n",
       "   'id': '6tDDoYIxWvMLTdKpjFkc1B',\n",
       "   'uri': 'spotify:track:6tDDoYIxWvMLTdKpjFkc1B',\n",
       "   'track_href': 'https://api.spotify.com/v1/tracks/6tDDoYIxWvMLTdKpjFkc1B',\n",
       "   'analysis_url': 'https://api.spotify.com/v1/audio-analysis/6tDDoYIxWvMLTdKpjFkc1B',\n",
       "   'duration_ms': 160191,\n",
       "   'time_signature': 4}],\n",
       " [{'danceability': 0.788,\n",
       "   'energy': 0.628,\n",
       "   'key': 11,\n",
       "   'loudness': -5.746,\n",
       "   'mode': 0,\n",
       "   'speechiness': 0.12,\n",
       "   'acousticness': 0.00715,\n",
       "   'instrumentalness': 0,\n",
       "   'liveness': 0.132,\n",
       "   'valence': 0.479,\n",
       "   'tempo': 104.083,\n",
       "   'type': 'audio_features',\n",
       "   'id': '62nb5YUYUqtYJhVPwRhCke',\n",
       "   'uri': 'spotify:track:62nb5YUYUqtYJhVPwRhCke',\n",
       "   'track_href': 'https://api.spotify.com/v1/tracks/62nb5YUYUqtYJhVPwRhCke',\n",
       "   'analysis_url': 'https://api.spotify.com/v1/audio-analysis/62nb5YUYUqtYJhVPwRhCke',\n",
       "   'duration_ms': 166911,\n",
       "   'time_signature': 4}],\n",
       " [{'danceability': 0.672,\n",
       "   'energy': 0.526,\n",
       "   'key': 4,\n",
       "   'loudness': -6.446,\n",
       "   'mode': 1,\n",
       "   'speechiness': 0.0599,\n",
       "   'acousticness': 0.0311,\n",
       "   'instrumentalness': 1.37e-06,\n",
       "   'liveness': 0.28,\n",
       "   'valence': 0.28,\n",
       "   'tempo': 123.999,\n",
       "   'type': 'audio_features',\n",
       "   'id': '6SRsiMl7w1USE4mFqrOhHC',\n",
       "   'uri': 'spotify:track:6SRsiMl7w1USE4mFqrOhHC',\n",
       "   'track_href': 'https://api.spotify.com/v1/tracks/6SRsiMl7w1USE4mFqrOhHC',\n",
       "   'analysis_url': 'https://api.spotify.com/v1/audio-analysis/6SRsiMl7w1USE4mFqrOhHC',\n",
       "   'duration_ms': 143747,\n",
       "   'time_signature': 4}],\n",
       " [{'danceability': 0.582,\n",
       "   'energy': 0.537,\n",
       "   'key': 0,\n",
       "   'loudness': -9.229,\n",
       "   'mode': 1,\n",
       "   'speechiness': 0.619,\n",
       "   'acousticness': 0.129,\n",
       "   'instrumentalness': 0,\n",
       "   'liveness': 0.0749,\n",
       "   'valence': 0.771,\n",
       "   'tempo': 82.103,\n",
       "   'type': 'audio_features',\n",
       "   'id': '0nqhKXDjsyBMvbeWmgijD0',\n",
       "   'uri': 'spotify:track:0nqhKXDjsyBMvbeWmgijD0',\n",
       "   'track_href': 'https://api.spotify.com/v1/tracks/0nqhKXDjsyBMvbeWmgijD0',\n",
       "   'analysis_url': 'https://api.spotify.com/v1/audio-analysis/0nqhKXDjsyBMvbeWmgijD0',\n",
       "   'duration_ms': 180930,\n",
       "   'time_signature': 4}],\n",
       " [{'danceability': 0.578,\n",
       "   'energy': 0.449,\n",
       "   'key': 1,\n",
       "   'loudness': -6.349,\n",
       "   'mode': 1,\n",
       "   'speechiness': 0.286,\n",
       "   'acousticness': 0.0618,\n",
       "   'instrumentalness': 2.17e-06,\n",
       "   'liveness': 0.119,\n",
       "   'valence': 0.1,\n",
       "   'tempo': 136.006,\n",
       "   'type': 'audio_features',\n",
       "   'id': '65OVbaJR5O1RmwOQx0875b',\n",
       "   'uri': 'spotify:track:65OVbaJR5O1RmwOQx0875b',\n",
       "   'track_href': 'https://api.spotify.com/v1/tracks/65OVbaJR5O1RmwOQx0875b',\n",
       "   'analysis_url': 'https://api.spotify.com/v1/audio-analysis/65OVbaJR5O1RmwOQx0875b',\n",
       "   'duration_ms': 192956,\n",
       "   'time_signature': 4}],\n",
       " [{'danceability': 0.533,\n",
       "   'energy': 0.855,\n",
       "   'key': 6,\n",
       "   'loudness': -2.901,\n",
       "   'mode': 1,\n",
       "   'speechiness': 0.0356,\n",
       "   'acousticness': 0.0553,\n",
       "   'instrumentalness': 0,\n",
       "   'liveness': 0.335,\n",
       "   'valence': 0.64,\n",
       "   'tempo': 102.017,\n",
       "   'type': 'audio_features',\n",
       "   'id': '4iXDn9pu5Q9sxv45vE8Lak',\n",
       "   'uri': 'spotify:track:4iXDn9pu5Q9sxv45vE8Lak',\n",
       "   'track_href': 'https://api.spotify.com/v1/tracks/4iXDn9pu5Q9sxv45vE8Lak',\n",
       "   'analysis_url': 'https://api.spotify.com/v1/audio-analysis/4iXDn9pu5Q9sxv45vE8Lak',\n",
       "   'duration_ms': 165569,\n",
       "   'time_signature': 4}],\n",
       " [{'danceability': 0.487,\n",
       "   'energy': 0.534,\n",
       "   'key': 0,\n",
       "   'loudness': -5.664,\n",
       "   'mode': 0,\n",
       "   'speechiness': 0.0555,\n",
       "   'acousticness': 0.36,\n",
       "   'instrumentalness': 0,\n",
       "   'liveness': 0.1,\n",
       "   'valence': 0.173,\n",
       "   'tempo': 131.798,\n",
       "   'type': 'audio_features',\n",
       "   'id': '3UoULw70kMsiVXxW0L3A33',\n",
       "   'uri': 'spotify:track:3UoULw70kMsiVXxW0L3A33',\n",
       "   'track_href': 'https://api.spotify.com/v1/tracks/3UoULw70kMsiVXxW0L3A33',\n",
       "   'analysis_url': 'https://api.spotify.com/v1/audio-analysis/3UoULw70kMsiVXxW0L3A33',\n",
       "   'duration_ms': 201882,\n",
       "   'time_signature': 4}],\n",
       " [{'danceability': 0.521,\n",
       "   'energy': 0.746,\n",
       "   'key': 6,\n",
       "   'loudness': -6.173,\n",
       "   'mode': 1,\n",
       "   'speechiness': 0.0351,\n",
       "   'acousticness': 0.00985,\n",
       "   'instrumentalness': 0,\n",
       "   'liveness': 0.0741,\n",
       "   'valence': 0.473,\n",
       "   'tempo': 149.977,\n",
       "   'type': 'audio_features',\n",
       "   'id': '7IhfjcaXuXCq20ZiAA7igK',\n",
       "   'uri': 'spotify:track:7IhfjcaXuXCq20ZiAA7igK',\n",
       "   'track_href': 'https://api.spotify.com/v1/tracks/7IhfjcaXuXCq20ZiAA7igK',\n",
       "   'analysis_url': 'https://api.spotify.com/v1/audio-analysis/7IhfjcaXuXCq20ZiAA7igK',\n",
       "   'duration_ms': 205960,\n",
       "   'time_signature': 4}],\n",
       " [{'danceability': 0.853,\n",
       "   'energy': 0.426,\n",
       "   'key': 1,\n",
       "   'loudness': -6.812,\n",
       "   'mode': 1,\n",
       "   'speechiness': 0.374,\n",
       "   'acousticness': 0.0765,\n",
       "   'instrumentalness': 0,\n",
       "   'liveness': 0.104,\n",
       "   'valence': 0.201,\n",
       "   'tempo': 160.051,\n",
       "   'type': 'audio_features',\n",
       "   'id': '6toQdWWc4noiOk3Eo5mVDS',\n",
       "   'uri': 'spotify:track:6toQdWWc4noiOk3Eo5mVDS',\n",
       "   'track_href': 'https://api.spotify.com/v1/tracks/6toQdWWc4noiOk3Eo5mVDS',\n",
       "   'analysis_url': 'https://api.spotify.com/v1/audio-analysis/6toQdWWc4noiOk3Eo5mVDS',\n",
       "   'duration_ms': 200424,\n",
       "   'time_signature': 4}],\n",
       " [{'danceability': 0.731,\n",
       "   'energy': 0.675,\n",
       "   'key': 5,\n",
       "   'loudness': -5.134,\n",
       "   'mode': 0,\n",
       "   'speechiness': 0.0434,\n",
       "   'acousticness': 0.00473,\n",
       "   'instrumentalness': 0,\n",
       "   'liveness': 0.141,\n",
       "   'valence': 0.298,\n",
       "   'tempo': 124.939,\n",
       "   'type': 'audio_features',\n",
       "   'id': '7kDUspsoYfLkWnZR7qwHZl',\n",
       "   'uri': 'spotify:track:7kDUspsoYfLkWnZR7qwHZl',\n",
       "   'track_href': 'https://api.spotify.com/v1/tracks/7kDUspsoYfLkWnZR7qwHZl',\n",
       "   'analysis_url': 'https://api.spotify.com/v1/audio-analysis/7kDUspsoYfLkWnZR7qwHZl',\n",
       "   'duration_ms': 139461,\n",
       "   'time_signature': 4}],\n",
       " [{'danceability': 0.856,\n",
       "   'energy': 0.727,\n",
       "   'key': 2,\n",
       "   'loudness': -5.616,\n",
       "   'mode': 1,\n",
       "   'speechiness': 0.277,\n",
       "   'acousticness': 0.013,\n",
       "   'instrumentalness': 0,\n",
       "   'liveness': 0.117,\n",
       "   'valence': 0.286,\n",
       "   'tempo': 146.044,\n",
       "   'type': 'audio_features',\n",
       "   'id': '5cAN3P7jWVf78gev1eF7TJ',\n",
       "   'uri': 'spotify:track:5cAN3P7jWVf78gev1eF7TJ',\n",
       "   'track_href': 'https://api.spotify.com/v1/tracks/5cAN3P7jWVf78gev1eF7TJ',\n",
       "   'analysis_url': 'https://api.spotify.com/v1/audio-analysis/5cAN3P7jWVf78gev1eF7TJ',\n",
       "   'duration_ms': 173419,\n",
       "   'time_signature': 4}],\n",
       " [{'danceability': 0.641,\n",
       "   'energy': 0.598,\n",
       "   'key': 7,\n",
       "   'loudness': -5.7,\n",
       "   'mode': 0,\n",
       "   'speechiness': 0.324,\n",
       "   'acousticness': 0.381,\n",
       "   'instrumentalness': 0,\n",
       "   'liveness': 0.0921,\n",
       "   'valence': 0.285,\n",
       "   'tempo': 131.459,\n",
       "   'type': 'audio_features',\n",
       "   'id': '5hChuUMe5iHfjkXgzj1D4b',\n",
       "   'uri': 'spotify:track:5hChuUMe5iHfjkXgzj1D4b',\n",
       "   'track_href': 'https://api.spotify.com/v1/tracks/5hChuUMe5iHfjkXgzj1D4b',\n",
       "   'analysis_url': 'https://api.spotify.com/v1/audio-analysis/5hChuUMe5iHfjkXgzj1D4b',\n",
       "   'duration_ms': 199706,\n",
       "   'time_signature': 5}],\n",
       " [{'danceability': 0.709,\n",
       "   'energy': 0.548,\n",
       "   'key': 10,\n",
       "   'loudness': -8.493,\n",
       "   'mode': 1,\n",
       "   'speechiness': 0.353,\n",
       "   'acousticness': 0.65,\n",
       "   'instrumentalness': 1.59e-06,\n",
       "   'liveness': 0.133,\n",
       "   'valence': 0.543,\n",
       "   'tempo': 83.995,\n",
       "   'type': 'audio_features',\n",
       "   'id': '1tkg4EHVoqnhR6iFEXb60y',\n",
       "   'uri': 'spotify:track:1tkg4EHVoqnhR6iFEXb60y',\n",
       "   'track_href': 'https://api.spotify.com/v1/tracks/1tkg4EHVoqnhR6iFEXb60y',\n",
       "   'analysis_url': 'https://api.spotify.com/v1/audio-analysis/1tkg4EHVoqnhR6iFEXb60y',\n",
       "   'duration_ms': 160000,\n",
       "   'time_signature': 4}],\n",
       " [{'danceability': 0.77,\n",
       "   'energy': 0.561,\n",
       "   'key': 10,\n",
       "   'loudness': -4.97,\n",
       "   'mode': 0,\n",
       "   'speechiness': 0.083,\n",
       "   'acousticness': 0.14,\n",
       "   'instrumentalness': 0,\n",
       "   'liveness': 0.123,\n",
       "   'valence': 0.81,\n",
       "   'tempo': 145.928,\n",
       "   'type': 'audio_features',\n",
       "   'id': '3vJKLsUYcC7mARUTOMUPaJ',\n",
       "   'uri': 'spotify:track:3vJKLsUYcC7mARUTOMUPaJ',\n",
       "   'track_href': 'https://api.spotify.com/v1/tracks/3vJKLsUYcC7mARUTOMUPaJ',\n",
       "   'analysis_url': 'https://api.spotify.com/v1/audio-analysis/3vJKLsUYcC7mARUTOMUPaJ',\n",
       "   'duration_ms': 173208,\n",
       "   'time_signature': 4}],\n",
       " [{'danceability': 0.741,\n",
       "   'energy': 0.647,\n",
       "   'key': 2,\n",
       "   'loudness': -12.878,\n",
       "   'mode': 1,\n",
       "   'speechiness': 0.0427,\n",
       "   'acousticness': 0.108,\n",
       "   'instrumentalness': 0.00139,\n",
       "   'liveness': 0.0555,\n",
       "   'valence': 0.804,\n",
       "   'tempo': 131.097,\n",
       "   'type': 'audio_features',\n",
       "   'id': '4ZoBC5MhSEzuknIgAkBaoT',\n",
       "   'uri': 'spotify:track:4ZoBC5MhSEzuknIgAkBaoT',\n",
       "   'track_href': 'https://api.spotify.com/v1/tracks/4ZoBC5MhSEzuknIgAkBaoT',\n",
       "   'analysis_url': 'https://api.spotify.com/v1/audio-analysis/4ZoBC5MhSEzuknIgAkBaoT',\n",
       "   'duration_ms': 284000,\n",
       "   'time_signature': 4}],\n",
       " [{'danceability': 0.759,\n",
       "   'energy': 0.538,\n",
       "   'key': 8,\n",
       "   'loudness': -8.256,\n",
       "   'mode': 0,\n",
       "   'speechiness': 0.384,\n",
       "   'acousticness': 0.151,\n",
       "   'instrumentalness': 0,\n",
       "   'liveness': 0.126,\n",
       "   'valence': 0.831,\n",
       "   'tempo': 146.933,\n",
       "   'type': 'audio_features',\n",
       "   'id': '7JuHVG3qQKQKxC4doneXVW',\n",
       "   'uri': 'spotify:track:7JuHVG3qQKQKxC4doneXVW',\n",
       "   'track_href': 'https://api.spotify.com/v1/tracks/7JuHVG3qQKQKxC4doneXVW',\n",
       "   'analysis_url': 'https://api.spotify.com/v1/audio-analysis/7JuHVG3qQKQKxC4doneXVW',\n",
       "   'duration_ms': 184490,\n",
       "   'time_signature': 4}],\n",
       " [{'danceability': 0.912,\n",
       "   'energy': 0.608,\n",
       "   'key': 1,\n",
       "   'loudness': -7.686,\n",
       "   'mode': 1,\n",
       "   'speechiness': 0.397,\n",
       "   'acousticness': 0.0458,\n",
       "   'instrumentalness': 0,\n",
       "   'liveness': 0.248,\n",
       "   'valence': 0.327,\n",
       "   'tempo': 136.994,\n",
       "   'type': 'audio_features',\n",
       "   'id': '0YrKSfpvflYnLSBd4Jtu6J',\n",
       "   'uri': 'spotify:track:0YrKSfpvflYnLSBd4Jtu6J',\n",
       "   'track_href': 'https://api.spotify.com/v1/tracks/0YrKSfpvflYnLSBd4Jtu6J',\n",
       "   'analysis_url': 'https://api.spotify.com/v1/audio-analysis/0YrKSfpvflYnLSBd4Jtu6J',\n",
       "   'duration_ms': 136900,\n",
       "   'time_signature': 4}],\n",
       " [{'danceability': 0.707,\n",
       "   'energy': 0.689,\n",
       "   'key': 4,\n",
       "   'loudness': -7.097,\n",
       "   'mode': 0,\n",
       "   'speechiness': 0.0387,\n",
       "   'acousticness': 0.0255,\n",
       "   'instrumentalness': 0,\n",
       "   'liveness': 0.383,\n",
       "   'valence': 0.41,\n",
       "   'tempo': 119.987,\n",
       "   'type': 'audio_features',\n",
       "   'id': '0NmuYnjETG3u3qx0OmEJev',\n",
       "   'uri': 'spotify:track:0NmuYnjETG3u3qx0OmEJev',\n",
       "   'track_href': 'https://api.spotify.com/v1/tracks/0NmuYnjETG3u3qx0OmEJev',\n",
       "   'analysis_url': 'https://api.spotify.com/v1/audio-analysis/0NmuYnjETG3u3qx0OmEJev',\n",
       "   'duration_ms': 195962,\n",
       "   'time_signature': 4}],\n",
       " [{'danceability': 0.484,\n",
       "   'energy': 0.783,\n",
       "   'key': 2,\n",
       "   'loudness': -5.334,\n",
       "   'mode': 1,\n",
       "   'speechiness': 0.0308,\n",
       "   'acousticness': 0.0957,\n",
       "   'instrumentalness': 0.000118,\n",
       "   'liveness': 0.107,\n",
       "   'valence': 0.594,\n",
       "   'tempo': 137.918,\n",
       "   'type': 'audio_features',\n",
       "   'id': '2CwG4BXIlGmmYLDmDvwMTH',\n",
       "   'uri': 'spotify:track:2CwG4BXIlGmmYLDmDvwMTH',\n",
       "   'track_href': 'https://api.spotify.com/v1/tracks/2CwG4BXIlGmmYLDmDvwMTH',\n",
       "   'analysis_url': 'https://api.spotify.com/v1/audio-analysis/2CwG4BXIlGmmYLDmDvwMTH',\n",
       "   'duration_ms': 215360,\n",
       "   'time_signature': 4}],\n",
       " [{'danceability': 0.398,\n",
       "   'energy': 0.716,\n",
       "   'key': 0,\n",
       "   'loudness': -5.254,\n",
       "   'mode': 1,\n",
       "   'speechiness': 0.0392,\n",
       "   'acousticness': 0.0764,\n",
       "   'instrumentalness': 0,\n",
       "   'liveness': 0.0848,\n",
       "   'valence': 0.494,\n",
       "   'tempo': 117.295,\n",
       "   'type': 'audio_features',\n",
       "   'id': '6bTn1ovliI0OkjUNkiMBJq',\n",
       "   'uri': 'spotify:track:6bTn1ovliI0OkjUNkiMBJq',\n",
       "   'track_href': 'https://api.spotify.com/v1/tracks/6bTn1ovliI0OkjUNkiMBJq',\n",
       "   'analysis_url': 'https://api.spotify.com/v1/audio-analysis/6bTn1ovliI0OkjUNkiMBJq',\n",
       "   'duration_ms': 193429,\n",
       "   'time_signature': 4}],\n",
       " [{'danceability': 0.808,\n",
       "   'energy': 0.626,\n",
       "   'key': 3,\n",
       "   'loudness': -4.577,\n",
       "   'mode': 0,\n",
       "   'speechiness': 0.0353,\n",
       "   'acousticness': 0.397,\n",
       "   'instrumentalness': 0.00584,\n",
       "   'liveness': 0.102,\n",
       "   'valence': 0.569,\n",
       "   'tempo': 127.955,\n",
       "   'type': 'audio_features',\n",
       "   'id': '4fSIb4hdOQ151TILNsSEaF',\n",
       "   'uri': 'spotify:track:4fSIb4hdOQ151TILNsSEaF',\n",
       "   'track_href': 'https://api.spotify.com/v1/tracks/4fSIb4hdOQ151TILNsSEaF',\n",
       "   'analysis_url': 'https://api.spotify.com/v1/audio-analysis/4fSIb4hdOQ151TILNsSEaF',\n",
       "   'duration_ms': 202771,\n",
       "   'time_signature': 4}],\n",
       " [{'danceability': 0.638,\n",
       "   'energy': 0.259,\n",
       "   'key': 7,\n",
       "   'loudness': -10.706,\n",
       "   'mode': 1,\n",
       "   'speechiness': 0.0898,\n",
       "   'acousticness': 0.753,\n",
       "   'instrumentalness': 0,\n",
       "   'liveness': 0.219,\n",
       "   'valence': 0.269,\n",
       "   'tempo': 88.485,\n",
       "   'type': 'audio_features',\n",
       "   'id': '2TOzTqQXNmR2zDJXihjZ2e',\n",
       "   'uri': 'spotify:track:2TOzTqQXNmR2zDJXihjZ2e',\n",
       "   'track_href': 'https://api.spotify.com/v1/tracks/2TOzTqQXNmR2zDJXihjZ2e',\n",
       "   'analysis_url': 'https://api.spotify.com/v1/audio-analysis/2TOzTqQXNmR2zDJXihjZ2e',\n",
       "   'duration_ms': 202827,\n",
       "   'time_signature': 4}],\n",
       " [{'danceability': 0.643,\n",
       "   'energy': 0.756,\n",
       "   'key': 6,\n",
       "   'loudness': -5.8,\n",
       "   'mode': 0,\n",
       "   'speechiness': 0.0305,\n",
       "   'acousticness': 0.0215,\n",
       "   'instrumentalness': 0.000268,\n",
       "   'liveness': 0.101,\n",
       "   'valence': 0.934,\n",
       "   'tempo': 90.001,\n",
       "   'type': 'audio_features',\n",
       "   'id': '53bZYxVbCYm6w1Gx8U64bz',\n",
       "   'uri': 'spotify:track:53bZYxVbCYm6w1Gx8U64bz',\n",
       "   'track_href': 'https://api.spotify.com/v1/tracks/53bZYxVbCYm6w1Gx8U64bz',\n",
       "   'analysis_url': 'https://api.spotify.com/v1/audio-analysis/53bZYxVbCYm6w1Gx8U64bz',\n",
       "   'duration_ms': 197453,\n",
       "   'time_signature': 4}],\n",
       " [{'danceability': 0.742,\n",
       "   'energy': 0.701,\n",
       "   'key': 1,\n",
       "   'loudness': -5.92,\n",
       "   'mode': 1,\n",
       "   'speechiness': 0.21,\n",
       "   'acousticness': 0.0821,\n",
       "   'instrumentalness': 0,\n",
       "   'liveness': 0.116,\n",
       "   'valence': 0.178,\n",
       "   'tempo': 137.951,\n",
       "   'type': 'audio_features',\n",
       "   'id': '1huoY7hw3hGVGfuPPe9y8P',\n",
       "   'uri': 'spotify:track:1huoY7hw3hGVGfuPPe9y8P',\n",
       "   'track_href': 'https://api.spotify.com/v1/tracks/1huoY7hw3hGVGfuPPe9y8P',\n",
       "   'analysis_url': 'https://api.spotify.com/v1/audio-analysis/1huoY7hw3hGVGfuPPe9y8P',\n",
       "   'duration_ms': 195064,\n",
       "   'time_signature': 4}],\n",
       " [{'danceability': 0.695,\n",
       "   'energy': 0.575,\n",
       "   'key': 10,\n",
       "   'loudness': -6.334,\n",
       "   'mode': 0,\n",
       "   'speechiness': 0.116,\n",
       "   'acousticness': 0.198,\n",
       "   'instrumentalness': 0,\n",
       "   'liveness': 0.0614,\n",
       "   'valence': 0.699,\n",
       "   'tempo': 163.929,\n",
       "   'type': 'audio_features',\n",
       "   'id': '0MMyJUC3WNnFS1lit5pTjk',\n",
       "   'uri': 'spotify:track:0MMyJUC3WNnFS1lit5pTjk',\n",
       "   'track_href': 'https://api.spotify.com/v1/tracks/0MMyJUC3WNnFS1lit5pTjk',\n",
       "   'analysis_url': 'https://api.spotify.com/v1/audio-analysis/0MMyJUC3WNnFS1lit5pTjk',\n",
       "   'duration_ms': 173160,\n",
       "   'time_signature': 4}],\n",
       " [{'danceability': 0.89,\n",
       "   'energy': 0.674,\n",
       "   'key': 11,\n",
       "   'loudness': -5.45,\n",
       "   'mode': 0,\n",
       "   'speechiness': 0.318,\n",
       "   'acousticness': 0.107,\n",
       "   'instrumentalness': 0,\n",
       "   'liveness': 0.111,\n",
       "   'valence': 0.248,\n",
       "   'tempo': 134.028,\n",
       "   'type': 'audio_features',\n",
       "   'id': '3jweuceENR5zzn10LhcjPH',\n",
       "   'uri': 'spotify:track:3jweuceENR5zzn10LhcjPH',\n",
       "   'track_href': 'https://api.spotify.com/v1/tracks/3jweuceENR5zzn10LhcjPH',\n",
       "   'analysis_url': 'https://api.spotify.com/v1/audio-analysis/3jweuceENR5zzn10LhcjPH',\n",
       "   'duration_ms': 216548,\n",
       "   'time_signature': 4}],\n",
       " [{'danceability': 0.582,\n",
       "   'energy': 0.868,\n",
       "   'key': 11,\n",
       "   'loudness': -3.927,\n",
       "   'mode': 1,\n",
       "   'speechiness': 0.0522,\n",
       "   'acousticness': 0.146,\n",
       "   'instrumentalness': 0,\n",
       "   'liveness': 0.103,\n",
       "   'valence': 0.555,\n",
       "   'tempo': 90.105,\n",
       "   'type': 'audio_features',\n",
       "   'id': '14JFKtBSqefxfMiKhq6JT8',\n",
       "   'uri': 'spotify:track:14JFKtBSqefxfMiKhq6JT8',\n",
       "   'track_href': 'https://api.spotify.com/v1/tracks/14JFKtBSqefxfMiKhq6JT8',\n",
       "   'analysis_url': 'https://api.spotify.com/v1/audio-analysis/14JFKtBSqefxfMiKhq6JT8',\n",
       "   'duration_ms': 179153,\n",
       "   'time_signature': 4}],\n",
       " [{'danceability': 0.789,\n",
       "   'energy': 0.609,\n",
       "   'key': 1,\n",
       "   'loudness': -5.969,\n",
       "   'mode': 1,\n",
       "   'speechiness': 0.174,\n",
       "   'acousticness': 0.0439,\n",
       "   'instrumentalness': 0,\n",
       "   'liveness': 0.178,\n",
       "   'valence': 0.0816,\n",
       "   'tempo': 136.001,\n",
       "   'type': 'audio_features',\n",
       "   'id': '4nNw167LUp6j2VvuJdbtv8',\n",
       "   'uri': 'spotify:track:4nNw167LUp6j2VvuJdbtv8',\n",
       "   'track_href': 'https://api.spotify.com/v1/tracks/4nNw167LUp6j2VvuJdbtv8',\n",
       "   'analysis_url': 'https://api.spotify.com/v1/audio-analysis/4nNw167LUp6j2VvuJdbtv8',\n",
       "   'duration_ms': 172401,\n",
       "   'time_signature': 4}],\n",
       " [{'danceability': 0.855,\n",
       "   'energy': 0.463,\n",
       "   'key': 3,\n",
       "   'loudness': -7.454,\n",
       "   'mode': 1,\n",
       "   'speechiness': 0.0367,\n",
       "   'acousticness': 0.217,\n",
       "   'instrumentalness': 1.77e-05,\n",
       "   'liveness': 0.347,\n",
       "   'valence': 0.866,\n",
       "   'tempo': 102.931,\n",
       "   'type': 'audio_features',\n",
       "   'id': '7BoobGhD4x5K96Me0hqC8Q',\n",
       "   'uri': 'spotify:track:7BoobGhD4x5K96Me0hqC8Q',\n",
       "   'track_href': 'https://api.spotify.com/v1/tracks/7BoobGhD4x5K96Me0hqC8Q',\n",
       "   'analysis_url': 'https://api.spotify.com/v1/audio-analysis/7BoobGhD4x5K96Me0hqC8Q',\n",
       "   'duration_ms': 122773,\n",
       "   'time_signature': 4}],\n",
       " [{'danceability': 0.562,\n",
       "   'energy': 0.649,\n",
       "   'key': 9,\n",
       "   'loudness': -5.4,\n",
       "   'mode': 1,\n",
       "   'speechiness': 0.0494,\n",
       "   'acousticness': 0.231,\n",
       "   'instrumentalness': 0,\n",
       "   'liveness': 0.341,\n",
       "   'valence': 0.376,\n",
       "   'tempo': 145.913,\n",
       "   'type': 'audio_features',\n",
       "   'id': '4sf2L157iEgAR7yrCNLgSq',\n",
       "   'uri': 'spotify:track:4sf2L157iEgAR7yrCNLgSq',\n",
       "   'track_href': 'https://api.spotify.com/v1/tracks/4sf2L157iEgAR7yrCNLgSq',\n",
       "   'analysis_url': 'https://api.spotify.com/v1/audio-analysis/4sf2L157iEgAR7yrCNLgSq',\n",
       "   'duration_ms': 215933,\n",
       "   'time_signature': 4}],\n",
       " [{'danceability': 0.748,\n",
       "   'energy': 0.551,\n",
       "   'key': 11,\n",
       "   'loudness': -6.12,\n",
       "   'mode': 1,\n",
       "   'speechiness': 0.0349,\n",
       "   'acousticness': 0.235,\n",
       "   'instrumentalness': 0,\n",
       "   'liveness': 0.119,\n",
       "   'valence': 0.66,\n",
       "   'tempo': 103.953,\n",
       "   'type': 'audio_features',\n",
       "   'id': '472vIK1ldetTxRxG3ovaiY',\n",
       "   'uri': 'spotify:track:472vIK1ldetTxRxG3ovaiY',\n",
       "   'track_href': 'https://api.spotify.com/v1/tracks/472vIK1ldetTxRxG3ovaiY',\n",
       "   'analysis_url': 'https://api.spotify.com/v1/audio-analysis/472vIK1ldetTxRxG3ovaiY',\n",
       "   'duration_ms': 144533,\n",
       "   'time_signature': 4}],\n",
       " [{'danceability': 0.293,\n",
       "   'energy': 0.619,\n",
       "   'key': 8,\n",
       "   'loudness': -7.923,\n",
       "   'mode': 1,\n",
       "   'speechiness': 0.0594,\n",
       "   'acousticness': 0.0357,\n",
       "   'instrumentalness': 0.927,\n",
       "   'liveness': 0.108,\n",
       "   'valence': 0.0582,\n",
       "   'tempo': 39.615,\n",
       "   'type': 'audio_features',\n",
       "   'id': '1Z01AETyJqE4M2aGBhJGDY',\n",
       "   'uri': 'spotify:track:1Z01AETyJqE4M2aGBhJGDY',\n",
       "   'track_href': 'https://api.spotify.com/v1/tracks/1Z01AETyJqE4M2aGBhJGDY',\n",
       "   'analysis_url': 'https://api.spotify.com/v1/audio-analysis/1Z01AETyJqE4M2aGBhJGDY',\n",
       "   'duration_ms': 121543,\n",
       "   'time_signature': 4}],\n",
       " [{'danceability': 0.473,\n",
       "   'energy': 0.203,\n",
       "   'key': 2,\n",
       "   'loudness': -12.627,\n",
       "   'mode': 1,\n",
       "   'speechiness': 0.102,\n",
       "   'acousticness': 0.941,\n",
       "   'instrumentalness': 0,\n",
       "   'liveness': 0.126,\n",
       "   'valence': 0.419,\n",
       "   'tempo': 168.884,\n",
       "   'type': 'audio_features',\n",
       "   'id': '4wcBRRpIfesgcyUtis7PEg',\n",
       "   'uri': 'spotify:track:4wcBRRpIfesgcyUtis7PEg',\n",
       "   'track_href': 'https://api.spotify.com/v1/tracks/4wcBRRpIfesgcyUtis7PEg',\n",
       "   'analysis_url': 'https://api.spotify.com/v1/audio-analysis/4wcBRRpIfesgcyUtis7PEg',\n",
       "   'duration_ms': 163587,\n",
       "   'time_signature': 4}],\n",
       " [{'danceability': 0.953,\n",
       "   'energy': 0.621,\n",
       "   'key': 8,\n",
       "   'loudness': -7.638,\n",
       "   'mode': 0,\n",
       "   'speechiness': 0.221,\n",
       "   'acousticness': 0.017,\n",
       "   'instrumentalness': 0,\n",
       "   'liveness': 0.0398,\n",
       "   'valence': 0.883,\n",
       "   'tempo': 123.016,\n",
       "   'type': 'audio_features',\n",
       "   'id': '6755DFiZ7CWe2WMdTGW5C1',\n",
       "   'uri': 'spotify:track:6755DFiZ7CWe2WMdTGW5C1',\n",
       "   'track_href': 'https://api.spotify.com/v1/tracks/6755DFiZ7CWe2WMdTGW5C1',\n",
       "   'analysis_url': 'https://api.spotify.com/v1/audio-analysis/6755DFiZ7CWe2WMdTGW5C1',\n",
       "   'duration_ms': 152333,\n",
       "   'time_signature': 4}],\n",
       " [{'danceability': 0.763,\n",
       "   'energy': 0.798,\n",
       "   'key': 2,\n",
       "   'loudness': -4.692,\n",
       "   'mode': 1,\n",
       "   'speechiness': 0.397,\n",
       "   'acousticness': 0.0555,\n",
       "   'instrumentalness': 0,\n",
       "   'liveness': 0.116,\n",
       "   'valence': 0.482,\n",
       "   'tempo': 77.987,\n",
       "   'type': 'audio_features',\n",
       "   'id': '5BCzsnN4U4OvOegjErHTUF',\n",
       "   'uri': 'spotify:track:5BCzsnN4U4OvOegjErHTUF',\n",
       "   'track_href': 'https://api.spotify.com/v1/tracks/5BCzsnN4U4OvOegjErHTUF',\n",
       "   'analysis_url': 'https://api.spotify.com/v1/audio-analysis/5BCzsnN4U4OvOegjErHTUF',\n",
       "   'duration_ms': 187680,\n",
       "   'time_signature': 4}],\n",
       " [{'danceability': 0.469,\n",
       "   'energy': 0.613,\n",
       "   'key': 11,\n",
       "   'loudness': -6.556,\n",
       "   'mode': 1,\n",
       "   'speechiness': 0.335,\n",
       "   'acousticness': 0.0747,\n",
       "   'instrumentalness': 0,\n",
       "   'liveness': 0.205,\n",
       "   'valence': 0.135,\n",
       "   'tempo': 72.434,\n",
       "   'type': 'audio_features',\n",
       "   'id': '6MSyik7EzWsHQjTOPLFBrr',\n",
       "   'uri': 'spotify:track:6MSyik7EzWsHQjTOPLFBrr',\n",
       "   'track_href': 'https://api.spotify.com/v1/tracks/6MSyik7EzWsHQjTOPLFBrr',\n",
       "   'analysis_url': 'https://api.spotify.com/v1/audio-analysis/6MSyik7EzWsHQjTOPLFBrr',\n",
       "   'duration_ms': 235015,\n",
       "   'time_signature': 1}],\n",
       " [{'danceability': 0.721,\n",
       "   'energy': 0.738,\n",
       "   'key': 7,\n",
       "   'loudness': -4.77,\n",
       "   'mode': 1,\n",
       "   'speechiness': 0.0403,\n",
       "   'acousticness': 0.00226,\n",
       "   'instrumentalness': 4.41e-06,\n",
       "   'liveness': 0.118,\n",
       "   'valence': 0.637,\n",
       "   'tempo': 119.976,\n",
       "   'type': 'audio_features',\n",
       "   'id': '4qu63nuBpdn0qHUHuObEj1',\n",
       "   'uri': 'spotify:track:4qu63nuBpdn0qHUHuObEj1',\n",
       "   'track_href': 'https://api.spotify.com/v1/tracks/4qu63nuBpdn0qHUHuObEj1',\n",
       "   'analysis_url': 'https://api.spotify.com/v1/audio-analysis/4qu63nuBpdn0qHUHuObEj1',\n",
       "   'duration_ms': 154983,\n",
       "   'time_signature': 4}],\n",
       " [{'danceability': 0.741,\n",
       "   'energy': 0.892,\n",
       "   'key': 10,\n",
       "   'loudness': -4.225,\n",
       "   'mode': 0,\n",
       "   'speechiness': 0.304,\n",
       "   'acousticness': 0.172,\n",
       "   'instrumentalness': 0,\n",
       "   'liveness': 0.126,\n",
       "   'valence': 0.56,\n",
       "   'tempo': 159.088,\n",
       "   'type': 'audio_features',\n",
       "   'id': '5LtzwqIWPXKEYfVcaY3bjc',\n",
       "   'uri': 'spotify:track:5LtzwqIWPXKEYfVcaY3bjc',\n",
       "   'track_href': 'https://api.spotify.com/v1/tracks/5LtzwqIWPXKEYfVcaY3bjc',\n",
       "   'analysis_url': 'https://api.spotify.com/v1/audio-analysis/5LtzwqIWPXKEYfVcaY3bjc',\n",
       "   'duration_ms': 181981,\n",
       "   'time_signature': 4}],\n",
       " [{'danceability': 0.53,\n",
       "   'energy': 0.826,\n",
       "   'key': 4,\n",
       "   'loudness': -6.369,\n",
       "   'mode': 1,\n",
       "   'speechiness': 0.43,\n",
       "   'acousticness': 0.0209,\n",
       "   'instrumentalness': 0,\n",
       "   'liveness': 0.0915,\n",
       "   'valence': 0.277,\n",
       "   'tempo': 95.99,\n",
       "   'type': 'audio_features',\n",
       "   'id': '6gcRcCkx2K09BucndWZMCS',\n",
       "   'uri': 'spotify:track:6gcRcCkx2K09BucndWZMCS',\n",
       "   'track_href': 'https://api.spotify.com/v1/tracks/6gcRcCkx2K09BucndWZMCS',\n",
       "   'analysis_url': 'https://api.spotify.com/v1/audio-analysis/6gcRcCkx2K09BucndWZMCS',\n",
       "   'duration_ms': 229375,\n",
       "   'time_signature': 4}],\n",
       " [{'danceability': 0.623,\n",
       "   'energy': 0.79,\n",
       "   'key': 7,\n",
       "   'loudness': -5.07,\n",
       "   'mode': 1,\n",
       "   'speechiness': 0.0473,\n",
       "   'acousticness': 0.118,\n",
       "   'instrumentalness': 0,\n",
       "   'liveness': 0.226,\n",
       "   'valence': 0.694,\n",
       "   'tempo': 81.949,\n",
       "   'type': 'audio_features',\n",
       "   'id': '1irAliF0T8sLIOPJp6n7rU',\n",
       "   'uri': 'spotify:track:1irAliF0T8sLIOPJp6n7rU',\n",
       "   'track_href': 'https://api.spotify.com/v1/tracks/1irAliF0T8sLIOPJp6n7rU',\n",
       "   'analysis_url': 'https://api.spotify.com/v1/audio-analysis/1irAliF0T8sLIOPJp6n7rU',\n",
       "   'duration_ms': 187684,\n",
       "   'time_signature': 4}],\n",
       " [{'danceability': 0.884,\n",
       "   'energy': 0.577,\n",
       "   'key': 1,\n",
       "   'loudness': -4.716,\n",
       "   'mode': 1,\n",
       "   'speechiness': 0.319,\n",
       "   'acousticness': 0.0843,\n",
       "   'instrumentalness': 0,\n",
       "   'liveness': 0.0602,\n",
       "   'valence': 0.854,\n",
       "   'tempo': 137.032,\n",
       "   'type': 'audio_features',\n",
       "   'id': '6dug6dIV40JMz2myhafHrm',\n",
       "   'uri': 'spotify:track:6dug6dIV40JMz2myhafHrm',\n",
       "   'track_href': 'https://api.spotify.com/v1/tracks/6dug6dIV40JMz2myhafHrm',\n",
       "   'analysis_url': 'https://api.spotify.com/v1/audio-analysis/6dug6dIV40JMz2myhafHrm',\n",
       "   'duration_ms': 218611,\n",
       "   'time_signature': 4}],\n",
       " [{'danceability': 0.581,\n",
       "   'energy': 0.441,\n",
       "   'key': 1,\n",
       "   'loudness': -6.829,\n",
       "   'mode': 1,\n",
       "   'speechiness': 0.0268,\n",
       "   'acousticness': 0.77,\n",
       "   'instrumentalness': 2.75e-05,\n",
       "   'liveness': 0.111,\n",
       "   'valence': 0.337,\n",
       "   'tempo': 82.125,\n",
       "   'type': 'audio_features',\n",
       "   'id': '7vF3xkCMvZjAe2nTWY0uQZ',\n",
       "   'uri': 'spotify:track:7vF3xkCMvZjAe2nTWY0uQZ',\n",
       "   'track_href': 'https://api.spotify.com/v1/tracks/7vF3xkCMvZjAe2nTWY0uQZ',\n",
       "   'analysis_url': 'https://api.spotify.com/v1/audio-analysis/7vF3xkCMvZjAe2nTWY0uQZ',\n",
       "   'duration_ms': 238400,\n",
       "   'time_signature': 4}],\n",
       " [{'danceability': 0.634,\n",
       "   'energy': 0.285,\n",
       "   'key': 9,\n",
       "   'loudness': -14.007,\n",
       "   'mode': 0,\n",
       "   'speechiness': 0.0807,\n",
       "   'acousticness': 0.937,\n",
       "   'instrumentalness': 0.000359,\n",
       "   'liveness': 0.232,\n",
       "   'valence': 0.203,\n",
       "   'tempo': 129.65,\n",
       "   'type': 'audio_features',\n",
       "   'id': '5qNh5WtzMbfpSj2jLlBkoD',\n",
       "   'uri': 'spotify:track:5qNh5WtzMbfpSj2jLlBkoD',\n",
       "   'track_href': 'https://api.spotify.com/v1/tracks/5qNh5WtzMbfpSj2jLlBkoD',\n",
       "   'analysis_url': 'https://api.spotify.com/v1/audio-analysis/5qNh5WtzMbfpSj2jLlBkoD',\n",
       "   'duration_ms': 245897,\n",
       "   'time_signature': 4}],\n",
       " [{'danceability': 0.847,\n",
       "   'energy': 0.405,\n",
       "   'key': 11,\n",
       "   'loudness': -10.901,\n",
       "   'mode': 1,\n",
       "   'speechiness': 0.584,\n",
       "   'acousticness': 0.232,\n",
       "   'instrumentalness': 5.37e-06,\n",
       "   'liveness': 0.0944,\n",
       "   'valence': 0.588,\n",
       "   'tempo': 156.999,\n",
       "   'type': 'audio_features',\n",
       "   'id': '3R6wLBD4oU6op8L4YfMho9',\n",
       "   'uri': 'spotify:track:3R6wLBD4oU6op8L4YfMho9',\n",
       "   'track_href': 'https://api.spotify.com/v1/tracks/3R6wLBD4oU6op8L4YfMho9',\n",
       "   'analysis_url': 'https://api.spotify.com/v1/audio-analysis/3R6wLBD4oU6op8L4YfMho9',\n",
       "   'duration_ms': 140920,\n",
       "   'time_signature': 4}],\n",
       " [{'danceability': 0.722,\n",
       "   'energy': 0.588,\n",
       "   'key': 6,\n",
       "   'loudness': -5.932,\n",
       "   'mode': 1,\n",
       "   'speechiness': 0.0544,\n",
       "   'acousticness': 0.0319,\n",
       "   'instrumentalness': 0,\n",
       "   'liveness': 0.183,\n",
       "   'valence': 0.59,\n",
       "   'tempo': 134.01,\n",
       "   'type': 'audio_features',\n",
       "   'id': '1diS6nkxMQc3wwC4G1j0bh',\n",
       "   'uri': 'spotify:track:1diS6nkxMQc3wwC4G1j0bh',\n",
       "   'track_href': 'https://api.spotify.com/v1/tracks/1diS6nkxMQc3wwC4G1j0bh',\n",
       "   'analysis_url': 'https://api.spotify.com/v1/audio-analysis/1diS6nkxMQc3wwC4G1j0bh',\n",
       "   'duration_ms': 165507,\n",
       "   'time_signature': 4}],\n",
       " [{'danceability': 0.697,\n",
       "   'energy': 0.535,\n",
       "   'key': 4,\n",
       "   'loudness': -6.504,\n",
       "   'mode': 1,\n",
       "   'speechiness': 0.068,\n",
       "   'acousticness': 0.247,\n",
       "   'instrumentalness': 0,\n",
       "   'liveness': 0.569,\n",
       "   'valence': 0.594,\n",
       "   'tempo': 82.959,\n",
       "   'type': 'audio_features',\n",
       "   'id': '5NUXE8W12lWcUXgJRCjeEw',\n",
       "   'uri': 'spotify:track:5NUXE8W12lWcUXgJRCjeEw',\n",
       "   'track_href': 'https://api.spotify.com/v1/tracks/5NUXE8W12lWcUXgJRCjeEw',\n",
       "   'analysis_url': 'https://api.spotify.com/v1/audio-analysis/5NUXE8W12lWcUXgJRCjeEw',\n",
       "   'duration_ms': 203893,\n",
       "   'time_signature': 4}],\n",
       " [{'danceability': 0.677,\n",
       "   'energy': 0.634,\n",
       "   'key': 7,\n",
       "   'loudness': -6.231,\n",
       "   'mode': 1,\n",
       "   'speechiness': 0.335,\n",
       "   'acousticness': 0.228,\n",
       "   'instrumentalness': 0,\n",
       "   'liveness': 0.131,\n",
       "   'valence': 0.496,\n",
       "   'tempo': 90.268,\n",
       "   'type': 'audio_features',\n",
       "   'id': '3zWR0zS9p39c0FVkYkHfVF',\n",
       "   'uri': 'spotify:track:3zWR0zS9p39c0FVkYkHfVF',\n",
       "   'track_href': 'https://api.spotify.com/v1/tracks/3zWR0zS9p39c0FVkYkHfVF',\n",
       "   'analysis_url': 'https://api.spotify.com/v1/audio-analysis/3zWR0zS9p39c0FVkYkHfVF',\n",
       "   'duration_ms': 206254,\n",
       "   'time_signature': 4}],\n",
       " [{'danceability': 0.644,\n",
       "   'energy': 0.563,\n",
       "   'key': 0,\n",
       "   'loudness': -9.814,\n",
       "   'mode': 0,\n",
       "   'speechiness': 0.159,\n",
       "   'acousticness': 0.0518,\n",
       "   'instrumentalness': 0,\n",
       "   'liveness': 0.179,\n",
       "   'valence': 0.339,\n",
       "   'tempo': 160.106,\n",
       "   'type': 'audio_features',\n",
       "   'id': '2L6lh2RmMs1yz4FQzdbwOn',\n",
       "   'uri': 'spotify:track:2L6lh2RmMs1yz4FQzdbwOn',\n",
       "   'track_href': 'https://api.spotify.com/v1/tracks/2L6lh2RmMs1yz4FQzdbwOn',\n",
       "   'analysis_url': 'https://api.spotify.com/v1/audio-analysis/2L6lh2RmMs1yz4FQzdbwOn',\n",
       "   'duration_ms': 218417,\n",
       "   'time_signature': 4}],\n",
       " [{'danceability': 0.546,\n",
       "   'energy': 0.934,\n",
       "   'key': 4,\n",
       "   'loudness': -3.796,\n",
       "   'mode': 1,\n",
       "   'speechiness': 0.0643,\n",
       "   'acousticness': 0.00187,\n",
       "   'instrumentalness': 0,\n",
       "   'liveness': 0.062,\n",
       "   'valence': 0.775,\n",
       "   'tempo': 89.972,\n",
       "   'type': 'audio_features',\n",
       "   'id': '0Lavu1rppGgXfiK27cAMyU',\n",
       "   'uri': 'spotify:track:0Lavu1rppGgXfiK27cAMyU',\n",
       "   'track_href': 'https://api.spotify.com/v1/tracks/0Lavu1rppGgXfiK27cAMyU',\n",
       "   'analysis_url': 'https://api.spotify.com/v1/audio-analysis/0Lavu1rppGgXfiK27cAMyU',\n",
       "   'duration_ms': 228187,\n",
       "   'time_signature': 4}],\n",
       " [{'danceability': 0.584,\n",
       "   'energy': 0.859,\n",
       "   'key': 8,\n",
       "   'loudness': -5.616,\n",
       "   'mode': 1,\n",
       "   'speechiness': 0.121,\n",
       "   'acousticness': 0.0144,\n",
       "   'instrumentalness': 0,\n",
       "   'liveness': 0.847,\n",
       "   'valence': 0.369,\n",
       "   'tempo': 77.005,\n",
       "   'type': 'audio_features',\n",
       "   'id': '2BITQ360Knh6qNAOqR7Dyq',\n",
       "   'uri': 'spotify:track:2BITQ360Knh6qNAOqR7Dyq',\n",
       "   'track_href': 'https://api.spotify.com/v1/tracks/2BITQ360Knh6qNAOqR7Dyq',\n",
       "   'analysis_url': 'https://api.spotify.com/v1/audio-analysis/2BITQ360Knh6qNAOqR7Dyq',\n",
       "   'duration_ms': 236883,\n",
       "   'time_signature': 4}],\n",
       " [{'danceability': 0.701,\n",
       "   'energy': 0.547,\n",
       "   'key': 2,\n",
       "   'loudness': -8.238,\n",
       "   'mode': 1,\n",
       "   'speechiness': 0.0483,\n",
       "   'acousticness': 0.00843,\n",
       "   'instrumentalness': 0,\n",
       "   'liveness': 0.0987,\n",
       "   'valence': 0.4,\n",
       "   'tempo': 140.015,\n",
       "   'type': 'audio_features',\n",
       "   'id': '4jbtL4tjkqghUvJknUqU1s',\n",
       "   'uri': 'spotify:track:4jbtL4tjkqghUvJknUqU1s',\n",
       "   'track_href': 'https://api.spotify.com/v1/tracks/4jbtL4tjkqghUvJknUqU1s',\n",
       "   'analysis_url': 'https://api.spotify.com/v1/audio-analysis/4jbtL4tjkqghUvJknUqU1s',\n",
       "   'duration_ms': 206108,\n",
       "   'time_signature': 4}],\n",
       " [{'danceability': 0.443,\n",
       "   'energy': 0.298,\n",
       "   'key': 0,\n",
       "   'loudness': -12.181,\n",
       "   'mode': 1,\n",
       "   'speechiness': 0.0644,\n",
       "   'acousticness': 0.388,\n",
       "   'instrumentalness': 1e-05,\n",
       "   'liveness': 0.103,\n",
       "   'valence': 0.172,\n",
       "   'tempo': 77.253,\n",
       "   'type': 'audio_features',\n",
       "   'id': '1zejeOnykpCoyVSit6Bwp3',\n",
       "   'uri': 'spotify:track:1zejeOnykpCoyVSit6Bwp3',\n",
       "   'track_href': 'https://api.spotify.com/v1/tracks/1zejeOnykpCoyVSit6Bwp3',\n",
       "   'analysis_url': 'https://api.spotify.com/v1/audio-analysis/1zejeOnykpCoyVSit6Bwp3',\n",
       "   'duration_ms': 209560,\n",
       "   'time_signature': 4}],\n",
       " [{'danceability': 0.901,\n",
       "   'energy': 0.656,\n",
       "   'key': 4,\n",
       "   'loudness': -7.452,\n",
       "   'mode': 0,\n",
       "   'speechiness': 0.277,\n",
       "   'acousticness': 0.0807,\n",
       "   'instrumentalness': 0,\n",
       "   'liveness': 0.181,\n",
       "   'valence': 0.599,\n",
       "   'tempo': 119.956,\n",
       "   'type': 'audio_features',\n",
       "   'id': '4iCZ6Cr76For1TuHUQ90r8',\n",
       "   'uri': 'spotify:track:4iCZ6Cr76For1TuHUQ90r8',\n",
       "   'track_href': 'https://api.spotify.com/v1/tracks/4iCZ6Cr76For1TuHUQ90r8',\n",
       "   'analysis_url': 'https://api.spotify.com/v1/audio-analysis/4iCZ6Cr76For1TuHUQ90r8',\n",
       "   'duration_ms': 224933,\n",
       "   'time_signature': 4}],\n",
       " [{'danceability': 0.45,\n",
       "   'energy': 0.329,\n",
       "   'key': 9,\n",
       "   'loudness': -12.603,\n",
       "   'mode': 0,\n",
       "   'speechiness': 0.0441,\n",
       "   'acousticness': 0.818,\n",
       "   'instrumentalness': 0.00109,\n",
       "   'liveness': 0.135,\n",
       "   'valence': 0.266,\n",
       "   'tempo': 71.884,\n",
       "   'type': 'audio_features',\n",
       "   'id': '1Xi84slp6FryDSCbzq4UCD',\n",
       "   'uri': 'spotify:track:1Xi84slp6FryDSCbzq4UCD',\n",
       "   'track_href': 'https://api.spotify.com/v1/tracks/1Xi84slp6FryDSCbzq4UCD',\n",
       "   'analysis_url': 'https://api.spotify.com/v1/audio-analysis/1Xi84slp6FryDSCbzq4UCD',\n",
       "   'duration_ms': 183624,\n",
       "   'time_signature': 3}],\n",
       " [{'danceability': 0.847,\n",
       "   'energy': 0.629,\n",
       "   'key': 9,\n",
       "   'loudness': -5.81,\n",
       "   'mode': 1,\n",
       "   'speechiness': 0.102,\n",
       "   'acousticness': 0.0318,\n",
       "   'instrumentalness': 0,\n",
       "   'liveness': 0.152,\n",
       "   'valence': 0.109,\n",
       "   'tempo': 135.976,\n",
       "   'type': 'audio_features',\n",
       "   'id': '3X2r2CnHOJeV5YekPTgBnK',\n",
       "   'uri': 'spotify:track:3X2r2CnHOJeV5YekPTgBnK',\n",
       "   'track_href': 'https://api.spotify.com/v1/tracks/3X2r2CnHOJeV5YekPTgBnK',\n",
       "   'analysis_url': 'https://api.spotify.com/v1/audio-analysis/3X2r2CnHOJeV5YekPTgBnK',\n",
       "   'duration_ms': 255532,\n",
       "   'time_signature': 4}],\n",
       " [{'danceability': 0.752,\n",
       "   'energy': 0.563,\n",
       "   'key': 3,\n",
       "   'loudness': -8.066,\n",
       "   'mode': 0,\n",
       "   'speechiness': 0.209,\n",
       "   'acousticness': 0.146,\n",
       "   'instrumentalness': 0,\n",
       "   'liveness': 0.103,\n",
       "   'valence': 0.551,\n",
       "   'tempo': 145.05,\n",
       "   'type': 'audio_features',\n",
       "   'id': '4VW44pawoOHPUjlN7DX5vk',\n",
       "   'uri': 'spotify:track:4VW44pawoOHPUjlN7DX5vk',\n",
       "   'track_href': 'https://api.spotify.com/v1/tracks/4VW44pawoOHPUjlN7DX5vk',\n",
       "   'analysis_url': 'https://api.spotify.com/v1/audio-analysis/4VW44pawoOHPUjlN7DX5vk',\n",
       "   'duration_ms': 178776,\n",
       "   'time_signature': 4}],\n",
       " [{'danceability': 0.627,\n",
       "   'energy': 0.678,\n",
       "   'key': 2,\n",
       "   'loudness': -4.691,\n",
       "   'mode': 1,\n",
       "   'speechiness': 0.0294,\n",
       "   'acousticness': 0.185,\n",
       "   'instrumentalness': 0,\n",
       "   'liveness': 0.374,\n",
       "   'valence': 0.724,\n",
       "   'tempo': 100.032,\n",
       "   'type': 'audio_features',\n",
       "   'id': '1UYfAU2bwgjaM5rIIPQleC',\n",
       "   'uri': 'spotify:track:1UYfAU2bwgjaM5rIIPQleC',\n",
       "   'track_href': 'https://api.spotify.com/v1/tracks/1UYfAU2bwgjaM5rIIPQleC',\n",
       "   'analysis_url': 'https://api.spotify.com/v1/audio-analysis/1UYfAU2bwgjaM5rIIPQleC',\n",
       "   'duration_ms': 160839,\n",
       "   'time_signature': 4}],\n",
       " [{'danceability': 0.542,\n",
       "   'energy': 0.732,\n",
       "   'key': 9,\n",
       "   'loudness': -5.956,\n",
       "   'mode': 1,\n",
       "   'speechiness': 0.0521,\n",
       "   'acousticness': 0.00209,\n",
       "   'instrumentalness': 7.92e-05,\n",
       "   'liveness': 0.496,\n",
       "   'valence': 0.489,\n",
       "   'tempo': 124.912,\n",
       "   'type': 'audio_features',\n",
       "   'id': '7FdUvDkaE24o3FPIWTvzv2',\n",
       "   'uri': 'spotify:track:7FdUvDkaE24o3FPIWTvzv2',\n",
       "   'track_href': 'https://api.spotify.com/v1/tracks/7FdUvDkaE24o3FPIWTvzv2',\n",
       "   'analysis_url': 'https://api.spotify.com/v1/audio-analysis/7FdUvDkaE24o3FPIWTvzv2',\n",
       "   'duration_ms': 175644,\n",
       "   'time_signature': 4}],\n",
       " [{'danceability': 0.596,\n",
       "   'energy': 0.679,\n",
       "   'key': 4,\n",
       "   'loudness': -6.395,\n",
       "   'mode': 1,\n",
       "   'speechiness': 0.0394,\n",
       "   'acousticness': 0.723,\n",
       "   'instrumentalness': 0,\n",
       "   'liveness': 0.116,\n",
       "   'valence': 0.479,\n",
       "   'tempo': 131.912,\n",
       "   'type': 'audio_features',\n",
       "   'id': '1ZIKpMTRPqhwAoVXWY3tXI',\n",
       "   'uri': 'spotify:track:1ZIKpMTRPqhwAoVXWY3tXI',\n",
       "   'track_href': 'https://api.spotify.com/v1/tracks/1ZIKpMTRPqhwAoVXWY3tXI',\n",
       "   'analysis_url': 'https://api.spotify.com/v1/audio-analysis/1ZIKpMTRPqhwAoVXWY3tXI',\n",
       "   'duration_ms': 207974,\n",
       "   'time_signature': 4}],\n",
       " [{'danceability': 0.672,\n",
       "   'energy': 0.717,\n",
       "   'key': 5,\n",
       "   'loudness': -7.476,\n",
       "   'mode': 1,\n",
       "   'speechiness': 0.226,\n",
       "   'acousticness': 0.103,\n",
       "   'instrumentalness': 0,\n",
       "   'liveness': 0.398,\n",
       "   'valence': 0.473,\n",
       "   'tempo': 157.905,\n",
       "   'type': 'audio_features',\n",
       "   'id': '7nc7mlSdWYeFom84zZ8Wr8',\n",
       "   'uri': 'spotify:track:7nc7mlSdWYeFom84zZ8Wr8',\n",
       "   'track_href': 'https://api.spotify.com/v1/tracks/7nc7mlSdWYeFom84zZ8Wr8',\n",
       "   'analysis_url': 'https://api.spotify.com/v1/audio-analysis/7nc7mlSdWYeFom84zZ8Wr8',\n",
       "   'duration_ms': 180380,\n",
       "   'time_signature': 4}],\n",
       " [{'danceability': 0.871,\n",
       "   'energy': 0.545,\n",
       "   'key': 7,\n",
       "   'loudness': -10.489,\n",
       "   'mode': 1,\n",
       "   'speechiness': 0.189,\n",
       "   'acousticness': 0.0143,\n",
       "   'instrumentalness': 0,\n",
       "   'liveness': 0.148,\n",
       "   'valence': 0.722,\n",
       "   'tempo': 100.482,\n",
       "   'type': 'audio_features',\n",
       "   'id': '4KIkADzoVm3A10E9qyjsQ5',\n",
       "   'uri': 'spotify:track:4KIkADzoVm3A10E9qyjsQ5',\n",
       "   'track_href': 'https://api.spotify.com/v1/tracks/4KIkADzoVm3A10E9qyjsQ5',\n",
       "   'analysis_url': 'https://api.spotify.com/v1/audio-analysis/4KIkADzoVm3A10E9qyjsQ5',\n",
       "   'duration_ms': 155720,\n",
       "   'time_signature': 4}],\n",
       " [{'danceability': 0.55,\n",
       "   'energy': 0.637,\n",
       "   'key': 8,\n",
       "   'loudness': -5.212,\n",
       "   'mode': 1,\n",
       "   'speechiness': 0.163,\n",
       "   'acousticness': 0.597,\n",
       "   'instrumentalness': 0,\n",
       "   'liveness': 0.129,\n",
       "   'valence': 0.535,\n",
       "   'tempo': 84.448,\n",
       "   'type': 'audio_features',\n",
       "   'id': '5pRTz4O2qOkr5nawemy6Wb',\n",
       "   'uri': 'spotify:track:5pRTz4O2qOkr5nawemy6Wb',\n",
       "   'track_href': 'https://api.spotify.com/v1/tracks/5pRTz4O2qOkr5nawemy6Wb',\n",
       "   'analysis_url': 'https://api.spotify.com/v1/audio-analysis/5pRTz4O2qOkr5nawemy6Wb',\n",
       "   'duration_ms': 160078,\n",
       "   'time_signature': 4}],\n",
       " [{'danceability': 0.777,\n",
       "   'energy': 0.58,\n",
       "   'key': 0,\n",
       "   'loudness': -6.928,\n",
       "   'mode': 0,\n",
       "   'speechiness': 0.0525,\n",
       "   'acousticness': 0.0125,\n",
       "   'instrumentalness': 0,\n",
       "   'liveness': 0.161,\n",
       "   'valence': 0.0636,\n",
       "   'tempo': 129.918,\n",
       "   'type': 'audio_features',\n",
       "   'id': '3mDFLytDotXo2p0rvfGbkA',\n",
       "   'uri': 'spotify:track:3mDFLytDotXo2p0rvfGbkA',\n",
       "   'track_href': 'https://api.spotify.com/v1/tracks/3mDFLytDotXo2p0rvfGbkA',\n",
       "   'analysis_url': 'https://api.spotify.com/v1/audio-analysis/3mDFLytDotXo2p0rvfGbkA',\n",
       "   'duration_ms': 178154,\n",
       "   'time_signature': 4}],\n",
       " [{'danceability': 0.659,\n",
       "   'energy': 0.683,\n",
       "   'key': 3,\n",
       "   'loudness': -5.623,\n",
       "   'mode': 1,\n",
       "   'speechiness': 0.0312,\n",
       "   'acousticness': 0.513,\n",
       "   'instrumentalness': 4.93e-06,\n",
       "   'liveness': 0.133,\n",
       "   'valence': 0.397,\n",
       "   'tempo': 139.931,\n",
       "   'type': 'audio_features',\n",
       "   'id': '5QS8PNEWbqTEZyQ6e9ZbJf',\n",
       "   'uri': 'spotify:track:5QS8PNEWbqTEZyQ6e9ZbJf',\n",
       "   'track_href': 'https://api.spotify.com/v1/tracks/5QS8PNEWbqTEZyQ6e9ZbJf',\n",
       "   'analysis_url': 'https://api.spotify.com/v1/audio-analysis/5QS8PNEWbqTEZyQ6e9ZbJf',\n",
       "   'duration_ms': 203373,\n",
       "   'time_signature': 4}],\n",
       " [{'danceability': 0.467,\n",
       "   'energy': 0.481,\n",
       "   'key': 2,\n",
       "   'loudness': -6.947,\n",
       "   'mode': 1,\n",
       "   'speechiness': 0.0255,\n",
       "   'acousticness': 0.227,\n",
       "   'instrumentalness': 0.000189,\n",
       "   'liveness': 0.11,\n",
       "   'valence': 0.248,\n",
       "   'tempo': 147.886,\n",
       "   'type': 'audio_features',\n",
       "   'id': '3CiF9D8iuVhZWDvvjf8HpG',\n",
       "   'uri': 'spotify:track:3CiF9D8iuVhZWDvvjf8HpG',\n",
       "   'track_href': 'https://api.spotify.com/v1/tracks/3CiF9D8iuVhZWDvvjf8HpG',\n",
       "   'analysis_url': 'https://api.spotify.com/v1/audio-analysis/3CiF9D8iuVhZWDvvjf8HpG',\n",
       "   'duration_ms': 221240,\n",
       "   'time_signature': 4}],\n",
       " [{'danceability': 0.612,\n",
       "   'energy': 0.884,\n",
       "   'key': 5,\n",
       "   'loudness': -4.4,\n",
       "   'mode': 1,\n",
       "   'speechiness': 0.0459,\n",
       "   'acousticness': 0.00516,\n",
       "   'instrumentalness': 0,\n",
       "   'liveness': 0.0997,\n",
       "   'valence': 0.626,\n",
       "   'tempo': 119.991,\n",
       "   'type': 'audio_features',\n",
       "   'id': '0QULNNd9z5s35entfiiXoa',\n",
       "   'uri': 'spotify:track:0QULNNd9z5s35entfiiXoa',\n",
       "   'track_href': 'https://api.spotify.com/v1/tracks/0QULNNd9z5s35entfiiXoa',\n",
       "   'analysis_url': 'https://api.spotify.com/v1/audio-analysis/0QULNNd9z5s35entfiiXoa',\n",
       "   'duration_ms': 245626,\n",
       "   'time_signature': 4}],\n",
       " [{'danceability': 0.795,\n",
       "   'energy': 0.599,\n",
       "   'key': 6,\n",
       "   'loudness': -7.819,\n",
       "   'mode': 1,\n",
       "   'speechiness': 0.123,\n",
       "   'acousticness': 0.0414,\n",
       "   'instrumentalness': 0,\n",
       "   'liveness': 0.193,\n",
       "   'valence': 0.351,\n",
       "   'tempo': 97.033,\n",
       "   'type': 'audio_features',\n",
       "   'id': '1EXRmdtTA2IEnYGiuw9plD',\n",
       "   'uri': 'spotify:track:1EXRmdtTA2IEnYGiuw9plD',\n",
       "   'track_href': 'https://api.spotify.com/v1/tracks/1EXRmdtTA2IEnYGiuw9plD',\n",
       "   'analysis_url': 'https://api.spotify.com/v1/audio-analysis/1EXRmdtTA2IEnYGiuw9plD',\n",
       "   'duration_ms': 195454,\n",
       "   'time_signature': 4}],\n",
       " [{'danceability': 0.573,\n",
       "   'energy': 0.867,\n",
       "   'key': 5,\n",
       "   'loudness': -2.876,\n",
       "   'mode': 0,\n",
       "   'speechiness': 0.168,\n",
       "   'acousticness': 0.0853,\n",
       "   'instrumentalness': 0,\n",
       "   'liveness': 0.38,\n",
       "   'valence': 0.231,\n",
       "   'tempo': 74.861,\n",
       "   'type': 'audio_features',\n",
       "   'id': '1TZv3bujNaYz646eezRE91',\n",
       "   'uri': 'spotify:track:1TZv3bujNaYz646eezRE91',\n",
       "   'track_href': 'https://api.spotify.com/v1/tracks/1TZv3bujNaYz646eezRE91',\n",
       "   'analysis_url': 'https://api.spotify.com/v1/audio-analysis/1TZv3bujNaYz646eezRE91',\n",
       "   'duration_ms': 339506,\n",
       "   'time_signature': 4}]]"
      ]
     },
     "execution_count": 128,
     "metadata": {},
     "output_type": "execute_result"
    }
   ],
   "source": [
    "top_100_uris_audio_features #list_with_audio_features"
   ]
  },
  {
   "cell_type": "code",
   "execution_count": 80,
   "metadata": {
    "cell_style": "split",
    "hidden": true
   },
   "outputs": [
    {
     "data": {
      "text/plain": [
       "{'danceability': 0.759,\n",
       " 'energy': 0.459,\n",
       " 'key': 8,\n",
       " 'loudness': -5.187,\n",
       " 'mode': 1,\n",
       " 'speechiness': 0.0948,\n",
       " 'acousticness': 0.00323,\n",
       " 'instrumentalness': 0,\n",
       " 'liveness': 0.0906,\n",
       " 'valence': 0.695,\n",
       " 'tempo': 109.997,\n",
       " 'type': 'audio_features',\n",
       " 'id': '2bgTY4UwhfBYhGT4HUYStN',\n",
       " 'uri': 'spotify:track:2bgTY4UwhfBYhGT4HUYStN',\n",
       " 'track_href': 'https://api.spotify.com/v1/tracks/2bgTY4UwhfBYhGT4HUYStN',\n",
       " 'analysis_url': 'https://api.spotify.com/v1/audio-analysis/2bgTY4UwhfBYhGT4HUYStN',\n",
       " 'duration_ms': 164442,\n",
       " 'time_signature': 4}"
      ]
     },
     "execution_count": 80,
     "metadata": {},
     "output_type": "execute_result"
    }
   ],
   "source": [
    "top_100_uris_audio_features[0][0] #First 0 is i, second 0 is always same."
   ]
  },
  {
   "cell_type": "code",
   "execution_count": 113,
   "metadata": {
    "hidden": true
   },
   "outputs": [],
   "source": [
    "#Empty lists to get out the audiofeatures for every single song.\n",
    "#Feature lists (empty)\n",
    "danceabilitiy = []\n",
    "energy = []\n",
    "key = []\n",
    "loudness = []\n",
    "mode = []\n",
    "speechiness = []\n",
    "acousticness = []\n",
    "instrumentalness = []\n",
    "liveness = []\n",
    "valence = []\n",
    "tempo = []\n",
    "type = []\n",
    "id = []\n",
    "uri = []\n",
    "track_href = []\n",
    "analysis_url = []\n",
    "duration_ms = []\n",
    "time_signature = []\n",
    "\n"
   ]
  },
  {
   "cell_type": "code",
   "execution_count": 115,
   "metadata": {
    "hidden": true
   },
   "outputs": [],
   "source": [
    "single_features = list(top_100_uris_audio_features[0][0].keys())\n",
    "#Accessing every single feature in the order as the feature lists above. Returns a list.\n",
    "#list_with_feature_names"
   ]
  },
  {
   "cell_type": "code",
   "execution_count": 130,
   "metadata": {
    "hidden": true
   },
   "outputs": [],
   "source": [
    "#def get_audio_feature_items_into_seperate_lists(list_with_audio_features, list_with_feature_names):\n",
    "\n",
    "def get_audio_feature_items_into_seperate_lists(list_with_feature_names):\n",
    "    for feature in list_with_feature_names:\n",
    "        print(feature)\n",
    "        #for i in range(len(list_with_audio_features)):\n",
    "            #single_features[feature].append(list_with_audio_features[i][0][str(feature)])\n",
    "\n",
    "#for i in range(len(top_100_uris_audio_features)):\n",
    "#    danceabilitiy_.append(top_100_uris_audio_features[i][0][\"danceability\"])"
   ]
  },
  {
   "cell_type": "code",
   "execution_count": 131,
   "metadata": {
    "hidden": true
   },
   "outputs": [
    {
     "name": "stdout",
     "output_type": "stream",
     "text": [
      "danceability\n",
      "energy\n",
      "key\n",
      "loudness\n",
      "mode\n",
      "speechiness\n",
      "acousticness\n",
      "instrumentalness\n",
      "liveness\n",
      "valence\n",
      "tempo\n",
      "type\n",
      "id\n",
      "uri\n",
      "track_href\n",
      "analysis_url\n",
      "duration_ms\n",
      "time_signature\n"
     ]
    }
   ],
   "source": [
    "get_audio_feature_items_into_seperate_lists(single_features)"
   ]
  },
  {
   "cell_type": "markdown",
   "metadata": {
    "heading_collapsed": true,
    "hidden": true
   },
   "source": [
    "### Random Playlists"
   ]
  },
  {
   "cell_type": "markdown",
   "metadata": {
    "hidden": true
   },
   "source": [
    "Getting the information from a random playlist."
   ]
  },
  {
   "cell_type": "code",
   "execution_count": 49,
   "metadata": {
    "hidden": true
   },
   "outputs": [],
   "source": [
    "big_playlist_id = \"4rnleEAOdmFAbRcNCgZMpY\" #This playlist has around 5000 songs.\n",
    "playlist =  get_playlist_tracks(\"spotify\", big_playlist_id) #This creates a list with all the songs in the playlist."
   ]
  },
  {
   "cell_type": "code",
   "execution_count": 50,
   "metadata": {
    "hidden": true
   },
   "outputs": [],
   "source": [
    "#playlist[0].keys()"
   ]
  },
  {
   "cell_type": "code",
   "execution_count": 51,
   "metadata": {
    "hidden": true
   },
   "outputs": [],
   "source": [
    "#playlist[0][\"track\"].keys()"
   ]
  },
  {
   "cell_type": "code",
   "execution_count": 30,
   "metadata": {
    "hidden": true
   },
   "outputs": [
    {
     "data": {
      "text/plain": [
       "'spotify:track:7dS5EaCoMnN7DzlpT6aRn2'"
      ]
     },
     "execution_count": 30,
     "metadata": {},
     "output_type": "execute_result"
    }
   ],
   "source": [
    "playlist[0][\"track\"][\"uri\"] #The path to the uri for each song. "
   ]
  },
  {
   "cell_type": "code",
   "execution_count": 52,
   "metadata": {
    "hidden": true,
    "tags": []
   },
   "outputs": [],
   "source": [
    "# This part creates two lists, one with the uri's the other with the artists names.\n",
    "\n",
    "playlist_uri = [] #Creating a list with all the uris to get the other information.\n",
    "artist_name = [] #Creating a list with all the artist names.\n",
    "\n",
    "for i in range(len(playlist)):\n",
    "    playlist_uri.append(playlist[i][\"track\"][\"uri\"]) #The i is the name of the song in the playlist.\n",
    "    artist_name.append(playlist[i][\"track\"][\"artists\"][0][\"name\"])\n",
    "    \n",
    "    \n",
    "    #playlist_audio_features.append(sp.audio_features(i[\"tracks\"][\"items\"][0][\"uri\"])[0])"
   ]
  },
  {
   "cell_type": "code",
   "execution_count": 32,
   "metadata": {
    "hidden": true
   },
   "outputs": [],
   "source": [
    " #Creating sublists of the uri's with 100 items in each sublist(last one has 95).\n",
    "sublists_uri = [playlist_uri[x:x+100] for x in range(0, len(playlist_uri), 100)]\n",
    "#sp.audio_features(list of uri)"
   ]
  },
  {
   "cell_type": "code",
   "execution_count": 33,
   "metadata": {
    "hidden": true,
    "tags": []
   },
   "outputs": [],
   "source": [
    "#For loop for every sublist to get the audio features. This creates a list with lists with dicts. Distribution--> [52x[100x{}] 1x[95x{}]]\n",
    "\n",
    "smaller_playlists_audio_features = []\n",
    "for i in range(len(sublists_uri)):\n",
    "    smaller_playlists_audio_features.append(list(sp.audio_features(sublists_uri[i])))\n",
    "\n",
    "#playlist_audio_features.append(sp.audio_features(i[\"tracks\"][\"items\"][0][\"uri\"])[0])\n"
   ]
  },
  {
   "cell_type": "code",
   "execution_count": 35,
   "metadata": {
    "hidden": true
   },
   "outputs": [],
   "source": [
    "#playlist[0][\"track\"][\"name\"]"
   ]
  },
  {
   "cell_type": "code",
   "execution_count": 55,
   "metadata": {
    "hidden": true
   },
   "outputs": [],
   "source": [
    "#To check if the for loop above worked\n",
    "#first = sp.audio_features(sublists_uri[0])\n",
    "#first "
   ]
  },
  {
   "cell_type": "code",
   "execution_count": null,
   "metadata": {
    "hidden": true
   },
   "outputs": [],
   "source": []
  },
  {
   "cell_type": "markdown",
   "metadata": {},
   "source": [
    "# Objective Day 3"
   ]
  },
  {
   "cell_type": "markdown",
   "metadata": {},
   "source": [
    "## Importing Libraries"
   ]
  },
  {
   "cell_type": "code",
   "execution_count": 132,
   "metadata": {},
   "outputs": [],
   "source": [
    "import pandas as pd\n",
    "from sklearn import datasets # sklearn comes with some toy datasets to practise\n",
    "from sklearn.preprocessing import StandardScaler\n",
    "from sklearn.cluster import KMeans\n",
    "from sklearn.metrics import silhouette_score"
   ]
  },
  {
   "cell_type": "markdown",
   "metadata": {
    "heading_collapsed": true
   },
   "source": [
    "## Functions"
   ]
  },
  {
   "cell_type": "code",
   "execution_count": null,
   "metadata": {
    "hidden": true
   },
   "outputs": [],
   "source": []
  },
  {
   "cell_type": "markdown",
   "metadata": {},
   "source": [
    "## Objective 1"
   ]
  },
  {
   "cell_type": "markdown",
   "metadata": {},
   "source": [
    "Fit the standard scaler to scale the audio features of each song using both dataframes."
   ]
  },
  {
   "cell_type": "code",
   "execution_count": null,
   "metadata": {},
   "outputs": [],
   "source": []
  },
  {
   "cell_type": "markdown",
   "metadata": {
    "heading_collapsed": true
   },
   "source": [
    "## Objective 2"
   ]
  },
  {
   "cell_type": "markdown",
   "metadata": {
    "hidden": true
   },
   "source": [
    "Save the freshly trained standard scaler with pickle"
   ]
  },
  {
   "cell_type": "markdown",
   "metadata": {
    "heading_collapsed": true
   },
   "source": [
    "## Objective 3"
   ]
  },
  {
   "cell_type": "markdown",
   "metadata": {
    "hidden": true
   },
   "source": [
    "Get the user’s song audio features"
   ]
  },
  {
   "cell_type": "markdown",
   "metadata": {
    "heading_collapsed": true
   },
   "source": [
    "## Objective 4"
   ]
  },
  {
   "cell_type": "markdown",
   "metadata": {
    "hidden": true
   },
   "source": [
    "Apply the trained scaler to transform the user’s song audio features"
   ]
  },
  {
   "cell_type": "markdown",
   "metadata": {
    "heading_collapsed": true
   },
   "source": [
    "## Objective 5"
   ]
  },
  {
   "cell_type": "markdown",
   "metadata": {
    "hidden": true
   },
   "source": [
    "Create a function to fit  the K-Means clustering method using all the songs contained in the both datasets ( hot100 and spotify )."
   ]
  },
  {
   "cell_type": "markdown",
   "metadata": {
    "heading_collapsed": true
   },
   "source": [
    "## Remember to:"
   ]
  },
  {
   "cell_type": "markdown",
   "metadata": {
    "hidden": true
   },
   "source": [
    "* Do some research on the optimal K-value for the K-means\n",
    "* Save the final K-means model with pickle\n",
    "* Use the trained K-means model to predict the cluster of each song in the internal databases and add this information to the internal databases"
   ]
  },
  {
   "cell_type": "markdown",
   "metadata": {
    "heading_collapsed": true
   },
   "source": [
    "# Objective Day 4"
   ]
  },
  {
   "cell_type": "markdown",
   "metadata": {
    "heading_collapsed": true,
    "hidden": true
   },
   "source": [
    "## Importing Libraries"
   ]
  },
  {
   "cell_type": "code",
   "execution_count": null,
   "metadata": {
    "hidden": true
   },
   "outputs": [],
   "source": []
  },
  {
   "cell_type": "markdown",
   "metadata": {
    "heading_collapsed": true,
    "hidden": true
   },
   "source": [
    "## Functions"
   ]
  },
  {
   "cell_type": "code",
   "execution_count": null,
   "metadata": {
    "hidden": true
   },
   "outputs": [],
   "source": []
  },
  {
   "cell_type": "markdown",
   "metadata": {
    "heading_collapsed": true,
    "hidden": true
   },
   "source": [
    "## Objective 1"
   ]
  },
  {
   "cell_type": "markdown",
   "metadata": {
    "hidden": true
   },
   "source": [
    "Create a function to ask the user:\n",
    "\n",
    "Song title\n",
    "\n",
    "Song artist\n"
   ]
  },
  {
   "cell_type": "markdown",
   "metadata": {
    "heading_collapsed": true,
    "hidden": true
   },
   "source": [
    "## Objective 2"
   ]
  },
  {
   "cell_type": "markdown",
   "metadata": {
    "hidden": true
   },
   "source": [
    "Create a function to search the user song in the Spotify API to get the audio features"
   ]
  },
  {
   "cell_type": "markdown",
   "metadata": {
    "heading_collapsed": true,
    "hidden": true
   },
   "source": [
    "## Objective 3"
   ]
  },
  {
   "cell_type": "markdown",
   "metadata": {
    "hidden": true
   },
   "source": [
    "Create a function to retrieve the standard scaler previously saved and scales the song’s audio features"
   ]
  },
  {
   "cell_type": "markdown",
   "metadata": {
    "heading_collapsed": true,
    "hidden": true
   },
   "source": [
    "## Objective 4"
   ]
  },
  {
   "cell_type": "markdown",
   "metadata": {
    "hidden": true
   },
   "source": [
    "Create a function to retrieve the K-Means model and predicts to which cluster belongs the song.\n"
   ]
  },
  {
   "cell_type": "markdown",
   "metadata": {
    "heading_collapsed": true,
    "hidden": true
   },
   "source": [
    "## Objective 5"
   ]
  },
  {
   "cell_type": "markdown",
   "metadata": {
    "hidden": true
   },
   "source": [
    "Create a function to retrieve one/more songs at random from the internal database which belongs to the same cluster as the user’s song and it’s not the same as the user song."
   ]
  },
  {
   "cell_type": "code",
   "execution_count": null,
   "metadata": {
    "hidden": true
   },
   "outputs": [],
   "source": []
  },
  {
   "cell_type": "code",
   "execution_count": null,
   "metadata": {
    "hidden": true
   },
   "outputs": [],
   "source": []
  }
 ],
 "metadata": {
  "interpreter": {
   "hash": "05b3b62c7789db94d00c942f2499dd9a2876ea971fd9b7cf25c50892de6c631c"
  },
  "kernelspec": {
   "display_name": "Python 3",
   "language": "python",
   "name": "python3"
  },
  "language_info": {
   "codemirror_mode": {
    "name": "ipython",
    "version": 3
   },
   "file_extension": ".py",
   "mimetype": "text/x-python",
   "name": "python",
   "nbconvert_exporter": "python",
   "pygments_lexer": "ipython3",
   "version": "3.8.8"
  },
  "toc": {
   "base_numbering": 1,
   "nav_menu": {},
   "number_sections": true,
   "sideBar": true,
   "skip_h1_title": false,
   "title_cell": "Table of Contents",
   "title_sidebar": "Contents",
   "toc_cell": false,
   "toc_position": {
    "height": "calc(100% - 180px)",
    "left": "10px",
    "top": "150px",
    "width": "384px"
   },
   "toc_section_display": true,
   "toc_window_display": true
  }
 },
 "nbformat": 4,
 "nbformat_minor": 2
}
